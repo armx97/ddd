{
  "nbformat": 4,
  "nbformat_minor": 0,
  "metadata": {
    "colab": {
      "name": "Untitled11.ipynb",
      "provenance": [],
      "collapsed_sections": [],
      "mount_file_id": "15Nlg29_3Eca6ZfB9-zYlTWVnAiazGwgh",
      "authorship_tag": "ABX9TyPTEnE/XGXn64dUvI9uYd3E",
      "include_colab_link": true
    },
    "kernelspec": {
      "display_name": "Python 3",
      "name": "python3"
    },
    "language_info": {
      "name": "python"
    }
  },
  "cells": [
    {
      "cell_type": "markdown",
      "metadata": {
        "id": "view-in-github",
        "colab_type": "text"
      },
      "source": [
        "<a href=\"https://colab.research.google.com/github/armx97/ddd/blob/main/Untitled11.ipynb\" target=\"_parent\"><img src=\"https://colab.research.google.com/assets/colab-badge.svg\" alt=\"Open In Colab\"/></a>"
      ]
    },
    {
      "cell_type": "code",
      "metadata": {
        "id": "Du1xceDTUP9J"
      },
      "source": [
        "from scipy.spatial import distance\n",
        "import pandas as pd \n",
        "import numpy as np \n",
        "import operator"
      ],
      "execution_count": null,
      "outputs": []
    },
    {
      "cell_type": "code",
      "metadata": {
        "id": "C6qF0qn7A72W"
      },
      "source": [
        "{\"latitude\":[56.227981],\n",
        " \"longitude\":[43.828068],\n",
        " \"city\": \"Íèæíèé Íîâãîðîä\",\n",
        " \"dist\": 400}"
      ],
      "execution_count": null,
      "outputs": []
    },
    {
      "cell_type": "code",
      "metadata": {
        "id": "bAxBAEJZ7pSW"
      },
      "source": [
        "import requests\n",
        "\n",
        "r = requests.post('http://inform-ocenka-calc.online/api/geo/radius_pois',\n",
        "                  json= {\"latitude\":[56.227981, 56.227981],\n",
        "                          \"longitude\":[43.828068, 43.828068],\n",
        "                          \"city\": \"Нижний Новгород\",\n",
        "                           \"dist\": 250})\n",
        "r.json()"
      ],
      "execution_count": null,
      "outputs": []
    },
    {
      "cell_type": "code",
      "metadata": {
        "colab": {
          "base_uri": "https://localhost:8080/"
        },
        "id": "LAXYJK1WS_r8",
        "outputId": "bf0298c7-3cde-46a9-8769-50b37595a50f"
      },
      "source": [
        "import requests\n",
        "\n",
        "r = requests.post('http://inform-ocenka-calc.online/api/geo/check_distr',                   \n",
        "                  json={\"coords\": [{\"Latitude\":56.227981, \"Longitude\":43.828068}], \n",
        "                        \"city\": [\"Нижний Новгород\"]}\n",
        "                  )\n",
        "r.json()"
      ],
      "execution_count": null,
      "outputs": [
        {
          "data": {
            "text/plain": [
              "[[[['Окраины', 'Многоквартирная жилая застройка'],\n",
              "   ['Окраина 21', 'Спальный микрорайон 107'],\n",
              "   [19, 19]],\n",
              "  []]]"
            ]
          },
          "execution_count": 3,
          "metadata": {},
          "output_type": "execute_result"
        }
      ]
    },
    {
      "cell_type": "code",
      "metadata": {
        "id": "084UKrhOojXk"
      },
      "source": [
        "import requests\n",
        "# { \"coords\": [{\"Latitude\": 56.337476,\"Longitude\": 43.936142},\n",
        "#              {\"Latitude\": 56.323847,\"Longitude\": 43.940266},\n",
        "#              {\"Latitude\": 56.325165,\"Longitude\": 43.9442},\n",
        "#              {\"Latitude\": 56.325215,\"Longitude\": 43.94597},\n",
        "#              {\"Latitude\": 56.325215,\"Longitude\": 43.94597},\n",
        "#              {\"Latitude\": 56.322624,\"Longitude\": 43.929567},\n",
        "#              {\"Latitude\": 56.322624,\"Longitude\": 43.929567},\n",
        "#              {\"Latitude\": 56.321486,\"Longitude\": 43.932882},\n",
        "#              {\"Latitude\": 56.333355,\"Longitude\": 43.954962},\n",
        "#              {\"Latitude\": 56.322699,\"Longitude\": 43.949608},\n",
        "#              {\"Latitude\": 56.322419,\"Longitude\": 43.950974},\n",
        "#              {\"Latitude\": 56.322419,\"Longitude\": 43.950974},{\"Latitude\": 56.322419,\"Longitude\": 43.950974},\n",
        "#              {\"Latitude\": 56.323972,\"Longitude\": 43.952986},{\"Latitude\": 56.328494,\"Longitude\": 43.956157},\n",
        "#              {\"Latitude\": 56.329148,\"Longitude\": 43.957154},{\"Latitude\": 56.324925,\"Longitude\": 43.915266},\n",
        "#              {\"Latitude\": 56.331633,\"Longitude\": 43.964547},{\"Latitude\": 56.331633,\"Longitude\": 43.964547},\n",
        "#              {\"Latitude\": 56.307387,\"Longitude\": 43.944721},{\"Latitude\": 56.306693,\"Longitude\": 43.944308},\n",
        "#              {\"Latitude\": ,\"Longitude\": },{\"Latitude\": ,\"Longitude\": },{\"Latitude\": ,\"Longitude\": },{\"Latitude\": ,\"Longitude\": },\n",
        "#              {\"Latitude\": ,\"Longitude\": },{\"Latitude\": ,\"Longitude\": },{\"Latitude\": ,\"Longitude\": },{\"Latitude\": ,\"Longitude\": },\n",
        "#              {\"Latitude\": ,\"Longitude\": },{\"Latitude\": ,\"Longitude\": }],\n",
        "#  \"city\": \"Нижний Новгород\",\"type_\": \"stop_position\"}\n",
        "\n",
        "\n",
        "r = requests.post('http://inform-ocenka-calc.online/api/geo/get_nearest_points',                   \n",
        "                  json={ \"coords\": [{\"Latitude\": 56.337476,\"Longitude\": 43.936142},\n",
        "                                    {\"Latitude\": 56.323847,\"Longitude\": 43.940266},\n",
        "                                    {\"Latitude\": 56.325165,\"Longitude\": 43.9442},\n",
        "                                    {\"Latitude\": 56.325215,\"Longitude\": 43.94597},\n",
        "                                    {\"Latitude\": 56.325215,\"Longitude\": 43.94597},\n",
        "                                    {\"Latitude\": 56.322624,\"Longitude\": 43.929567},\n",
        "                                    {\"Latitude\": 56.322624,\"Longitude\": 43.929567},\n",
        "                                    {\"Latitude\": 56.321486,\"Longitude\": 43.932882},\n",
        "                                    {\"Latitude\": 56.333355,\"Longitude\": 43.954962},\n",
        "                                    {\"Latitude\": 56.322699,\"Longitude\": 43.949608},\n",
        "                                    {\"Latitude\": 56.322419,\"Longitude\": 43.950974},\n",
        "                                    {\"Latitude\": 56.322419,\"Longitude\": 43.950974},\n",
        "                                    {\"Latitude\": 56.322419,\"Longitude\": 43.950974},\n",
        "                                    {\"Latitude\": 56.323972,\"Longitude\": 43.952986},\n",
        "                                    {\"Latitude\": 56.328494,\"Longitude\": 43.956157},\n",
        "                                    {\"Latitude\": 56.329148,\"Longitude\": 43.957154},\n",
        "                                    {\"Latitude\": 56.324925,\"Longitude\": 43.915266},\n",
        "                                    {\"Latitude\": 56.331633,\"Longitude\": 43.964547},\n",
        "                                    {\"Latitude\": 56.331633,\"Longitude\": 43.964547},\n",
        "                                    {\"Latitude\": 56.307387,\"Longitude\": 43.944721},\n",
        "                                    {\"Latitude\": 56.306693,\"Longitude\": 43.944308},],\n",
        "                        \"city\": \"Нижний Новгород\",\"type_\": \"stop_position\"}\n",
        "\n",
        "                  )\n",
        "r.json()"
      ],
      "execution_count": null,
      "outputs": []
    },
    {
      "cell_type": "code",
      "metadata": {
        "colab": {
          "base_uri": "https://localhost:8080/",
          "height": 626
        },
        "id": "Pq0zxNEMgwgQ",
        "outputId": "f5cd222c-a488-415d-a22c-3f1674de29ee"
      },
      "source": [
        "my_data = pd.read_csv('/content/drive/MyDrive/Raifhack (1)/data/test.csv')\n",
        "my_data"
      ],
      "execution_count": null,
      "outputs": [
        {
          "data": {
            "text/html": [
              "<div>\n",
              "<style scoped>\n",
              "    .dataframe tbody tr th:only-of-type {\n",
              "        vertical-align: middle;\n",
              "    }\n",
              "\n",
              "    .dataframe tbody tr th {\n",
              "        vertical-align: top;\n",
              "    }\n",
              "\n",
              "    .dataframe thead th {\n",
              "        text-align: right;\n",
              "    }\n",
              "</style>\n",
              "<table border=\"1\" class=\"dataframe\">\n",
              "  <thead>\n",
              "    <tr style=\"text-align: right;\">\n",
              "      <th></th>\n",
              "      <th>city</th>\n",
              "      <th>floor</th>\n",
              "      <th>id</th>\n",
              "      <th>osm_amenity_points_in_0.001</th>\n",
              "      <th>osm_amenity_points_in_0.005</th>\n",
              "      <th>osm_amenity_points_in_0.0075</th>\n",
              "      <th>osm_amenity_points_in_0.01</th>\n",
              "      <th>osm_building_points_in_0.001</th>\n",
              "      <th>osm_building_points_in_0.005</th>\n",
              "      <th>osm_building_points_in_0.0075</th>\n",
              "      <th>osm_building_points_in_0.01</th>\n",
              "      <th>osm_catering_points_in_0.001</th>\n",
              "      <th>osm_catering_points_in_0.005</th>\n",
              "      <th>osm_catering_points_in_0.0075</th>\n",
              "      <th>osm_catering_points_in_0.01</th>\n",
              "      <th>osm_city_closest_dist</th>\n",
              "      <th>osm_city_nearest_name</th>\n",
              "      <th>osm_city_nearest_population</th>\n",
              "      <th>osm_crossing_closest_dist</th>\n",
              "      <th>osm_crossing_points_in_0.001</th>\n",
              "      <th>osm_crossing_points_in_0.005</th>\n",
              "      <th>osm_crossing_points_in_0.0075</th>\n",
              "      <th>osm_crossing_points_in_0.01</th>\n",
              "      <th>osm_culture_points_in_0.001</th>\n",
              "      <th>osm_culture_points_in_0.005</th>\n",
              "      <th>osm_culture_points_in_0.0075</th>\n",
              "      <th>osm_culture_points_in_0.01</th>\n",
              "      <th>osm_finance_points_in_0.001</th>\n",
              "      <th>osm_finance_points_in_0.005</th>\n",
              "      <th>osm_finance_points_in_0.0075</th>\n",
              "      <th>osm_finance_points_in_0.01</th>\n",
              "      <th>osm_healthcare_points_in_0.005</th>\n",
              "      <th>osm_healthcare_points_in_0.0075</th>\n",
              "      <th>osm_healthcare_points_in_0.01</th>\n",
              "      <th>osm_historic_points_in_0.005</th>\n",
              "      <th>osm_historic_points_in_0.0075</th>\n",
              "      <th>osm_historic_points_in_0.01</th>\n",
              "      <th>osm_hotels_points_in_0.005</th>\n",
              "      <th>osm_hotels_points_in_0.0075</th>\n",
              "      <th>osm_hotels_points_in_0.01</th>\n",
              "      <th>osm_leisure_points_in_0.005</th>\n",
              "      <th>osm_leisure_points_in_0.0075</th>\n",
              "      <th>osm_leisure_points_in_0.01</th>\n",
              "      <th>osm_offices_points_in_0.001</th>\n",
              "      <th>osm_offices_points_in_0.005</th>\n",
              "      <th>osm_offices_points_in_0.0075</th>\n",
              "      <th>osm_offices_points_in_0.01</th>\n",
              "      <th>osm_shops_points_in_0.001</th>\n",
              "      <th>osm_shops_points_in_0.005</th>\n",
              "      <th>osm_shops_points_in_0.0075</th>\n",
              "      <th>osm_shops_points_in_0.01</th>\n",
              "      <th>osm_subway_closest_dist</th>\n",
              "      <th>osm_train_stop_closest_dist</th>\n",
              "      <th>osm_train_stop_points_in_0.005</th>\n",
              "      <th>osm_train_stop_points_in_0.0075</th>\n",
              "      <th>osm_train_stop_points_in_0.01</th>\n",
              "      <th>osm_transport_stop_closest_dist</th>\n",
              "      <th>osm_transport_stop_points_in_0.005</th>\n",
              "      <th>osm_transport_stop_points_in_0.0075</th>\n",
              "      <th>osm_transport_stop_points_in_0.01</th>\n",
              "      <th>reform_count_of_houses_1000</th>\n",
              "      <th>reform_count_of_houses_500</th>\n",
              "      <th>reform_house_population_1000</th>\n",
              "      <th>reform_house_population_500</th>\n",
              "      <th>reform_mean_floor_count_1000</th>\n",
              "      <th>reform_mean_floor_count_500</th>\n",
              "      <th>reform_mean_year_building_1000</th>\n",
              "      <th>reform_mean_year_building_500</th>\n",
              "      <th>region</th>\n",
              "      <th>lat</th>\n",
              "      <th>lng</th>\n",
              "      <th>total_square</th>\n",
              "      <th>street</th>\n",
              "      <th>date</th>\n",
              "      <th>realty_type</th>\n",
              "      <th>price_type</th>\n",
              "    </tr>\n",
              "  </thead>\n",
              "  <tbody>\n",
              "    <tr>\n",
              "      <th>0</th>\n",
              "      <td>Курск</td>\n",
              "      <td>1.0</td>\n",
              "      <td>COL_289284</td>\n",
              "      <td>7</td>\n",
              "      <td>55</td>\n",
              "      <td>85</td>\n",
              "      <td>117</td>\n",
              "      <td>0</td>\n",
              "      <td>0</td>\n",
              "      <td>0</td>\n",
              "      <td>0</td>\n",
              "      <td>0</td>\n",
              "      <td>2</td>\n",
              "      <td>6</td>\n",
              "      <td>10</td>\n",
              "      <td>4.101661</td>\n",
              "      <td>Курск</td>\n",
              "      <td>443212.0</td>\n",
              "      <td>0.147072</td>\n",
              "      <td>0</td>\n",
              "      <td>7</td>\n",
              "      <td>7</td>\n",
              "      <td>19</td>\n",
              "      <td>0</td>\n",
              "      <td>0</td>\n",
              "      <td>0</td>\n",
              "      <td>0</td>\n",
              "      <td>1</td>\n",
              "      <td>2</td>\n",
              "      <td>3</td>\n",
              "      <td>3</td>\n",
              "      <td>5</td>\n",
              "      <td>5</td>\n",
              "      <td>5</td>\n",
              "      <td>2</td>\n",
              "      <td>2</td>\n",
              "      <td>4</td>\n",
              "      <td>7</td>\n",
              "      <td>7</td>\n",
              "      <td>8</td>\n",
              "      <td>0</td>\n",
              "      <td>0</td>\n",
              "      <td>1</td>\n",
              "      <td>0</td>\n",
              "      <td>0</td>\n",
              "      <td>0</td>\n",
              "      <td>1</td>\n",
              "      <td>5</td>\n",
              "      <td>36</td>\n",
              "      <td>61</td>\n",
              "      <td>83</td>\n",
              "      <td>435.363535</td>\n",
              "      <td>5.636811</td>\n",
              "      <td>0</td>\n",
              "      <td>0</td>\n",
              "      <td>0</td>\n",
              "      <td>0.108668</td>\n",
              "      <td>11</td>\n",
              "      <td>15</td>\n",
              "      <td>27</td>\n",
              "      <td>184</td>\n",
              "      <td>78</td>\n",
              "      <td>1997.0</td>\n",
              "      <td>743.0</td>\n",
              "      <td>4.325000</td>\n",
              "      <td>4.211268</td>\n",
              "      <td>1966.471591</td>\n",
              "      <td>1966.740260</td>\n",
              "      <td>Курская область</td>\n",
              "      <td>51.709255</td>\n",
              "      <td>36.147908</td>\n",
              "      <td>156.148996</td>\n",
              "      <td>S6983</td>\n",
              "      <td>2020-09-06</td>\n",
              "      <td>100</td>\n",
              "      <td>1</td>\n",
              "    </tr>\n",
              "    <tr>\n",
              "      <th>1</th>\n",
              "      <td>Сургут</td>\n",
              "      <td>1.0</td>\n",
              "      <td>COL_289305</td>\n",
              "      <td>8</td>\n",
              "      <td>70</td>\n",
              "      <td>112</td>\n",
              "      <td>140</td>\n",
              "      <td>0</td>\n",
              "      <td>0</td>\n",
              "      <td>0</td>\n",
              "      <td>0</td>\n",
              "      <td>0</td>\n",
              "      <td>7</td>\n",
              "      <td>8</td>\n",
              "      <td>13</td>\n",
              "      <td>4.084249</td>\n",
              "      <td>Сургут</td>\n",
              "      <td>380632.0</td>\n",
              "      <td>0.162480</td>\n",
              "      <td>0</td>\n",
              "      <td>18</td>\n",
              "      <td>33</td>\n",
              "      <td>50</td>\n",
              "      <td>0</td>\n",
              "      <td>0</td>\n",
              "      <td>0</td>\n",
              "      <td>1</td>\n",
              "      <td>1</td>\n",
              "      <td>2</td>\n",
              "      <td>5</td>\n",
              "      <td>6</td>\n",
              "      <td>3</td>\n",
              "      <td>6</td>\n",
              "      <td>8</td>\n",
              "      <td>1</td>\n",
              "      <td>1</td>\n",
              "      <td>1</td>\n",
              "      <td>3</td>\n",
              "      <td>5</td>\n",
              "      <td>5</td>\n",
              "      <td>3</td>\n",
              "      <td>6</td>\n",
              "      <td>7</td>\n",
              "      <td>0</td>\n",
              "      <td>3</td>\n",
              "      <td>5</td>\n",
              "      <td>8</td>\n",
              "      <td>4</td>\n",
              "      <td>51</td>\n",
              "      <td>81</td>\n",
              "      <td>99</td>\n",
              "      <td>693.447931</td>\n",
              "      <td>9.641591</td>\n",
              "      <td>0</td>\n",
              "      <td>0</td>\n",
              "      <td>0</td>\n",
              "      <td>0.091416</td>\n",
              "      <td>9</td>\n",
              "      <td>11</td>\n",
              "      <td>19</td>\n",
              "      <td>118</td>\n",
              "      <td>44</td>\n",
              "      <td>2823.0</td>\n",
              "      <td>1019.0</td>\n",
              "      <td>5.389831</td>\n",
              "      <td>5.500000</td>\n",
              "      <td>1988.259259</td>\n",
              "      <td>1989.068182</td>\n",
              "      <td>Ханты-Мансийский АО</td>\n",
              "      <td>61.233240</td>\n",
              "      <td>73.462509</td>\n",
              "      <td>190.737943</td>\n",
              "      <td>S29120</td>\n",
              "      <td>2020-09-06</td>\n",
              "      <td>110</td>\n",
              "      <td>1</td>\n",
              "    </tr>\n",
              "    <tr>\n",
              "      <th>2</th>\n",
              "      <td>Тюмень</td>\n",
              "      <td>-1.0</td>\n",
              "      <td>COL_289318</td>\n",
              "      <td>3</td>\n",
              "      <td>28</td>\n",
              "      <td>67</td>\n",
              "      <td>122</td>\n",
              "      <td>0</td>\n",
              "      <td>0</td>\n",
              "      <td>0</td>\n",
              "      <td>0</td>\n",
              "      <td>0</td>\n",
              "      <td>9</td>\n",
              "      <td>18</td>\n",
              "      <td>34</td>\n",
              "      <td>1.291974</td>\n",
              "      <td>Тюмень</td>\n",
              "      <td>744554.0</td>\n",
              "      <td>0.075807</td>\n",
              "      <td>1</td>\n",
              "      <td>21</td>\n",
              "      <td>57</td>\n",
              "      <td>92</td>\n",
              "      <td>0</td>\n",
              "      <td>0</td>\n",
              "      <td>1</td>\n",
              "      <td>2</td>\n",
              "      <td>0</td>\n",
              "      <td>1</td>\n",
              "      <td>4</td>\n",
              "      <td>5</td>\n",
              "      <td>2</td>\n",
              "      <td>3</td>\n",
              "      <td>3</td>\n",
              "      <td>1</td>\n",
              "      <td>2</td>\n",
              "      <td>5</td>\n",
              "      <td>0</td>\n",
              "      <td>1</td>\n",
              "      <td>1</td>\n",
              "      <td>0</td>\n",
              "      <td>2</td>\n",
              "      <td>5</td>\n",
              "      <td>0</td>\n",
              "      <td>1</td>\n",
              "      <td>1</td>\n",
              "      <td>3</td>\n",
              "      <td>3</td>\n",
              "      <td>15</td>\n",
              "      <td>34</td>\n",
              "      <td>63</td>\n",
              "      <td>298.904686</td>\n",
              "      <td>1.803999</td>\n",
              "      <td>0</td>\n",
              "      <td>0</td>\n",
              "      <td>0</td>\n",
              "      <td>0.120308</td>\n",
              "      <td>6</td>\n",
              "      <td>20</td>\n",
              "      <td>29</td>\n",
              "      <td>150</td>\n",
              "      <td>51</td>\n",
              "      <td>3484.0</td>\n",
              "      <td>1332.0</td>\n",
              "      <td>7.915493</td>\n",
              "      <td>8.250000</td>\n",
              "      <td>1985.880282</td>\n",
              "      <td>1991.458333</td>\n",
              "      <td>Тюменская область</td>\n",
              "      <td>57.143110</td>\n",
              "      <td>65.554573</td>\n",
              "      <td>457.118051</td>\n",
              "      <td>S23731</td>\n",
              "      <td>2020-09-06</td>\n",
              "      <td>10</td>\n",
              "      <td>1</td>\n",
              "    </tr>\n",
              "    <tr>\n",
              "      <th>3</th>\n",
              "      <td>Иркутск</td>\n",
              "      <td>1.0</td>\n",
              "      <td>COL_289354</td>\n",
              "      <td>5</td>\n",
              "      <td>76</td>\n",
              "      <td>139</td>\n",
              "      <td>231</td>\n",
              "      <td>0</td>\n",
              "      <td>0</td>\n",
              "      <td>0</td>\n",
              "      <td>0</td>\n",
              "      <td>0</td>\n",
              "      <td>28</td>\n",
              "      <td>52</td>\n",
              "      <td>84</td>\n",
              "      <td>0.914598</td>\n",
              "      <td>Иркутск</td>\n",
              "      <td>623562.0</td>\n",
              "      <td>0.043604</td>\n",
              "      <td>1</td>\n",
              "      <td>30</td>\n",
              "      <td>60</td>\n",
              "      <td>95</td>\n",
              "      <td>1</td>\n",
              "      <td>8</td>\n",
              "      <td>13</td>\n",
              "      <td>18</td>\n",
              "      <td>0</td>\n",
              "      <td>5</td>\n",
              "      <td>6</td>\n",
              "      <td>10</td>\n",
              "      <td>5</td>\n",
              "      <td>8</td>\n",
              "      <td>12</td>\n",
              "      <td>12</td>\n",
              "      <td>20</td>\n",
              "      <td>32</td>\n",
              "      <td>1</td>\n",
              "      <td>8</td>\n",
              "      <td>18</td>\n",
              "      <td>1</td>\n",
              "      <td>5</td>\n",
              "      <td>5</td>\n",
              "      <td>0</td>\n",
              "      <td>7</td>\n",
              "      <td>11</td>\n",
              "      <td>16</td>\n",
              "      <td>3</td>\n",
              "      <td>14</td>\n",
              "      <td>26</td>\n",
              "      <td>51</td>\n",
              "      <td>60.224709</td>\n",
              "      <td>1.338052</td>\n",
              "      <td>0</td>\n",
              "      <td>0</td>\n",
              "      <td>0</td>\n",
              "      <td>0.079332</td>\n",
              "      <td>9</td>\n",
              "      <td>18</td>\n",
              "      <td>29</td>\n",
              "      <td>252</td>\n",
              "      <td>86</td>\n",
              "      <td>1975.0</td>\n",
              "      <td>666.0</td>\n",
              "      <td>3.276860</td>\n",
              "      <td>3.012048</td>\n",
              "      <td>1947.073276</td>\n",
              "      <td>1941.657895</td>\n",
              "      <td>Иркутская область</td>\n",
              "      <td>52.281380</td>\n",
              "      <td>104.282975</td>\n",
              "      <td>66.503622</td>\n",
              "      <td>S14207</td>\n",
              "      <td>2020-09-06</td>\n",
              "      <td>100</td>\n",
              "      <td>1</td>\n",
              "    </tr>\n",
              "    <tr>\n",
              "      <th>4</th>\n",
              "      <td>Курск</td>\n",
              "      <td>NaN</td>\n",
              "      <td>COL_289399</td>\n",
              "      <td>8</td>\n",
              "      <td>105</td>\n",
              "      <td>189</td>\n",
              "      <td>279</td>\n",
              "      <td>0</td>\n",
              "      <td>0</td>\n",
              "      <td>2</td>\n",
              "      <td>9</td>\n",
              "      <td>1</td>\n",
              "      <td>24</td>\n",
              "      <td>40</td>\n",
              "      <td>54</td>\n",
              "      <td>1.300135</td>\n",
              "      <td>Курск</td>\n",
              "      <td>443212.0</td>\n",
              "      <td>0.084204</td>\n",
              "      <td>1</td>\n",
              "      <td>40</td>\n",
              "      <td>72</td>\n",
              "      <td>84</td>\n",
              "      <td>1</td>\n",
              "      <td>10</td>\n",
              "      <td>12</td>\n",
              "      <td>12</td>\n",
              "      <td>3</td>\n",
              "      <td>10</td>\n",
              "      <td>14</td>\n",
              "      <td>21</td>\n",
              "      <td>2</td>\n",
              "      <td>6</td>\n",
              "      <td>6</td>\n",
              "      <td>10</td>\n",
              "      <td>14</td>\n",
              "      <td>17</td>\n",
              "      <td>1</td>\n",
              "      <td>1</td>\n",
              "      <td>1</td>\n",
              "      <td>4</td>\n",
              "      <td>5</td>\n",
              "      <td>12</td>\n",
              "      <td>0</td>\n",
              "      <td>2</td>\n",
              "      <td>12</td>\n",
              "      <td>16</td>\n",
              "      <td>1</td>\n",
              "      <td>49</td>\n",
              "      <td>98</td>\n",
              "      <td>156</td>\n",
              "      <td>432.530106</td>\n",
              "      <td>2.440972</td>\n",
              "      <td>0</td>\n",
              "      <td>0</td>\n",
              "      <td>0</td>\n",
              "      <td>0.093642</td>\n",
              "      <td>12</td>\n",
              "      <td>26</td>\n",
              "      <td>37</td>\n",
              "      <td>114</td>\n",
              "      <td>31</td>\n",
              "      <td>1044.0</td>\n",
              "      <td>394.0</td>\n",
              "      <td>4.346154</td>\n",
              "      <td>4.827586</td>\n",
              "      <td>1948.764151</td>\n",
              "      <td>1946.689655</td>\n",
              "      <td>Курская область</td>\n",
              "      <td>51.729706</td>\n",
              "      <td>36.194019</td>\n",
              "      <td>23.864915</td>\n",
              "      <td>S20658</td>\n",
              "      <td>2020-09-06</td>\n",
              "      <td>10</td>\n",
              "      <td>1</td>\n",
              "    </tr>\n",
              "    <tr>\n",
              "      <th>...</th>\n",
              "      <td>...</td>\n",
              "      <td>...</td>\n",
              "      <td>...</td>\n",
              "      <td>...</td>\n",
              "      <td>...</td>\n",
              "      <td>...</td>\n",
              "      <td>...</td>\n",
              "      <td>...</td>\n",
              "      <td>...</td>\n",
              "      <td>...</td>\n",
              "      <td>...</td>\n",
              "      <td>...</td>\n",
              "      <td>...</td>\n",
              "      <td>...</td>\n",
              "      <td>...</td>\n",
              "      <td>...</td>\n",
              "      <td>...</td>\n",
              "      <td>...</td>\n",
              "      <td>...</td>\n",
              "      <td>...</td>\n",
              "      <td>...</td>\n",
              "      <td>...</td>\n",
              "      <td>...</td>\n",
              "      <td>...</td>\n",
              "      <td>...</td>\n",
              "      <td>...</td>\n",
              "      <td>...</td>\n",
              "      <td>...</td>\n",
              "      <td>...</td>\n",
              "      <td>...</td>\n",
              "      <td>...</td>\n",
              "      <td>...</td>\n",
              "      <td>...</td>\n",
              "      <td>...</td>\n",
              "      <td>...</td>\n",
              "      <td>...</td>\n",
              "      <td>...</td>\n",
              "      <td>...</td>\n",
              "      <td>...</td>\n",
              "      <td>...</td>\n",
              "      <td>...</td>\n",
              "      <td>...</td>\n",
              "      <td>...</td>\n",
              "      <td>...</td>\n",
              "      <td>...</td>\n",
              "      <td>...</td>\n",
              "      <td>...</td>\n",
              "      <td>...</td>\n",
              "      <td>...</td>\n",
              "      <td>...</td>\n",
              "      <td>...</td>\n",
              "      <td>...</td>\n",
              "      <td>...</td>\n",
              "      <td>...</td>\n",
              "      <td>...</td>\n",
              "      <td>...</td>\n",
              "      <td>...</td>\n",
              "      <td>...</td>\n",
              "      <td>...</td>\n",
              "      <td>...</td>\n",
              "      <td>...</td>\n",
              "      <td>...</td>\n",
              "      <td>...</td>\n",
              "      <td>...</td>\n",
              "      <td>...</td>\n",
              "      <td>...</td>\n",
              "      <td>...</td>\n",
              "      <td>...</td>\n",
              "      <td>...</td>\n",
              "      <td>...</td>\n",
              "      <td>...</td>\n",
              "      <td>...</td>\n",
              "      <td>...</td>\n",
              "      <td>...</td>\n",
              "      <td>...</td>\n",
              "      <td>...</td>\n",
              "    </tr>\n",
              "    <tr>\n",
              "      <th>2969</th>\n",
              "      <td>Красноярск</td>\n",
              "      <td>4.0</td>\n",
              "      <td>COL_455089</td>\n",
              "      <td>0</td>\n",
              "      <td>3</td>\n",
              "      <td>6</td>\n",
              "      <td>16</td>\n",
              "      <td>0</td>\n",
              "      <td>0</td>\n",
              "      <td>0</td>\n",
              "      <td>0</td>\n",
              "      <td>0</td>\n",
              "      <td>1</td>\n",
              "      <td>1</td>\n",
              "      <td>1</td>\n",
              "      <td>3.572596</td>\n",
              "      <td>Красноярск</td>\n",
              "      <td>1095286.0</td>\n",
              "      <td>0.077641</td>\n",
              "      <td>1</td>\n",
              "      <td>15</td>\n",
              "      <td>44</td>\n",
              "      <td>56</td>\n",
              "      <td>0</td>\n",
              "      <td>0</td>\n",
              "      <td>0</td>\n",
              "      <td>0</td>\n",
              "      <td>0</td>\n",
              "      <td>0</td>\n",
              "      <td>0</td>\n",
              "      <td>0</td>\n",
              "      <td>0</td>\n",
              "      <td>0</td>\n",
              "      <td>0</td>\n",
              "      <td>0</td>\n",
              "      <td>0</td>\n",
              "      <td>0</td>\n",
              "      <td>0</td>\n",
              "      <td>0</td>\n",
              "      <td>0</td>\n",
              "      <td>0</td>\n",
              "      <td>0</td>\n",
              "      <td>0</td>\n",
              "      <td>0</td>\n",
              "      <td>0</td>\n",
              "      <td>0</td>\n",
              "      <td>1</td>\n",
              "      <td>0</td>\n",
              "      <td>2</td>\n",
              "      <td>5</td>\n",
              "      <td>14</td>\n",
              "      <td>3.931040</td>\n",
              "      <td>2.896740</td>\n",
              "      <td>0</td>\n",
              "      <td>0</td>\n",
              "      <td>0</td>\n",
              "      <td>0.205148</td>\n",
              "      <td>6</td>\n",
              "      <td>9</td>\n",
              "      <td>15</td>\n",
              "      <td>53</td>\n",
              "      <td>12</td>\n",
              "      <td>1086.0</td>\n",
              "      <td>240.0</td>\n",
              "      <td>5.730769</td>\n",
              "      <td>6.333333</td>\n",
              "      <td>1972.153846</td>\n",
              "      <td>1982.250000</td>\n",
              "      <td>Красноярский край</td>\n",
              "      <td>55.978180</td>\n",
              "      <td>92.891457</td>\n",
              "      <td>2149.546362</td>\n",
              "      <td>S2650</td>\n",
              "      <td>2020-12-27</td>\n",
              "      <td>100</td>\n",
              "      <td>1</td>\n",
              "    </tr>\n",
              "    <tr>\n",
              "      <th>2970</th>\n",
              "      <td>Томск</td>\n",
              "      <td>1.0</td>\n",
              "      <td>COL_455212</td>\n",
              "      <td>2</td>\n",
              "      <td>33</td>\n",
              "      <td>111</td>\n",
              "      <td>222</td>\n",
              "      <td>0</td>\n",
              "      <td>0</td>\n",
              "      <td>1</td>\n",
              "      <td>1</td>\n",
              "      <td>1</td>\n",
              "      <td>9</td>\n",
              "      <td>24</td>\n",
              "      <td>45</td>\n",
              "      <td>3.614641</td>\n",
              "      <td>Томск</td>\n",
              "      <td>576624.0</td>\n",
              "      <td>0.116917</td>\n",
              "      <td>0</td>\n",
              "      <td>13</td>\n",
              "      <td>32</td>\n",
              "      <td>62</td>\n",
              "      <td>0</td>\n",
              "      <td>1</td>\n",
              "      <td>1</td>\n",
              "      <td>2</td>\n",
              "      <td>0</td>\n",
              "      <td>1</td>\n",
              "      <td>3</td>\n",
              "      <td>8</td>\n",
              "      <td>0</td>\n",
              "      <td>2</td>\n",
              "      <td>4</td>\n",
              "      <td>1</td>\n",
              "      <td>2</td>\n",
              "      <td>6</td>\n",
              "      <td>2</td>\n",
              "      <td>4</td>\n",
              "      <td>6</td>\n",
              "      <td>1</td>\n",
              "      <td>3</td>\n",
              "      <td>14</td>\n",
              "      <td>0</td>\n",
              "      <td>0</td>\n",
              "      <td>1</td>\n",
              "      <td>6</td>\n",
              "      <td>0</td>\n",
              "      <td>16</td>\n",
              "      <td>67</td>\n",
              "      <td>130</td>\n",
              "      <td>201.668316</td>\n",
              "      <td>0.897445</td>\n",
              "      <td>0</td>\n",
              "      <td>0</td>\n",
              "      <td>0</td>\n",
              "      <td>0.309002</td>\n",
              "      <td>5</td>\n",
              "      <td>20</td>\n",
              "      <td>37</td>\n",
              "      <td>198</td>\n",
              "      <td>62</td>\n",
              "      <td>3008.0</td>\n",
              "      <td>979.0</td>\n",
              "      <td>5.714286</td>\n",
              "      <td>5.882353</td>\n",
              "      <td>1972.260870</td>\n",
              "      <td>1973.460000</td>\n",
              "      <td>Томская область</td>\n",
              "      <td>56.459183</td>\n",
              "      <td>84.979872</td>\n",
              "      <td>359.371061</td>\n",
              "      <td>S11114</td>\n",
              "      <td>2020-12-27</td>\n",
              "      <td>10</td>\n",
              "      <td>1</td>\n",
              "    </tr>\n",
              "    <tr>\n",
              "      <th>2971</th>\n",
              "      <td>Калуга</td>\n",
              "      <td>-1.0</td>\n",
              "      <td>COL_455261</td>\n",
              "      <td>2</td>\n",
              "      <td>25</td>\n",
              "      <td>54</td>\n",
              "      <td>99</td>\n",
              "      <td>0</td>\n",
              "      <td>0</td>\n",
              "      <td>0</td>\n",
              "      <td>2</td>\n",
              "      <td>1</td>\n",
              "      <td>2</td>\n",
              "      <td>8</td>\n",
              "      <td>12</td>\n",
              "      <td>2.573999</td>\n",
              "      <td>Калуга</td>\n",
              "      <td>342936.0</td>\n",
              "      <td>0.016371</td>\n",
              "      <td>8</td>\n",
              "      <td>22</td>\n",
              "      <td>41</td>\n",
              "      <td>77</td>\n",
              "      <td>0</td>\n",
              "      <td>1</td>\n",
              "      <td>2</td>\n",
              "      <td>2</td>\n",
              "      <td>0</td>\n",
              "      <td>0</td>\n",
              "      <td>0</td>\n",
              "      <td>2</td>\n",
              "      <td>2</td>\n",
              "      <td>3</td>\n",
              "      <td>4</td>\n",
              "      <td>4</td>\n",
              "      <td>4</td>\n",
              "      <td>7</td>\n",
              "      <td>0</td>\n",
              "      <td>0</td>\n",
              "      <td>0</td>\n",
              "      <td>1</td>\n",
              "      <td>2</td>\n",
              "      <td>3</td>\n",
              "      <td>0</td>\n",
              "      <td>4</td>\n",
              "      <td>4</td>\n",
              "      <td>11</td>\n",
              "      <td>1</td>\n",
              "      <td>19</td>\n",
              "      <td>41</td>\n",
              "      <td>75</td>\n",
              "      <td>140.244140</td>\n",
              "      <td>10.792640</td>\n",
              "      <td>0</td>\n",
              "      <td>0</td>\n",
              "      <td>0</td>\n",
              "      <td>0.097762</td>\n",
              "      <td>7</td>\n",
              "      <td>16</td>\n",
              "      <td>27</td>\n",
              "      <td>127</td>\n",
              "      <td>22</td>\n",
              "      <td>1487.0</td>\n",
              "      <td>315.0</td>\n",
              "      <td>3.983871</td>\n",
              "      <td>4.909091</td>\n",
              "      <td>1966.390244</td>\n",
              "      <td>1966.904762</td>\n",
              "      <td>Калужская область</td>\n",
              "      <td>54.523247</td>\n",
              "      <td>36.295168</td>\n",
              "      <td>87.820453</td>\n",
              "      <td>S34005</td>\n",
              "      <td>2020-12-27</td>\n",
              "      <td>100</td>\n",
              "      <td>1</td>\n",
              "    </tr>\n",
              "    <tr>\n",
              "      <th>2972</th>\n",
              "      <td>Нижний Новгород</td>\n",
              "      <td>NaN</td>\n",
              "      <td>COL_455381</td>\n",
              "      <td>13</td>\n",
              "      <td>70</td>\n",
              "      <td>114</td>\n",
              "      <td>158</td>\n",
              "      <td>0</td>\n",
              "      <td>0</td>\n",
              "      <td>0</td>\n",
              "      <td>0</td>\n",
              "      <td>8</td>\n",
              "      <td>34</td>\n",
              "      <td>45</td>\n",
              "      <td>59</td>\n",
              "      <td>1.030306</td>\n",
              "      <td>Нижний Новгород</td>\n",
              "      <td>1252236.0</td>\n",
              "      <td>0.050913</td>\n",
              "      <td>4</td>\n",
              "      <td>12</td>\n",
              "      <td>22</td>\n",
              "      <td>38</td>\n",
              "      <td>0</td>\n",
              "      <td>5</td>\n",
              "      <td>9</td>\n",
              "      <td>12</td>\n",
              "      <td>0</td>\n",
              "      <td>0</td>\n",
              "      <td>1</td>\n",
              "      <td>1</td>\n",
              "      <td>1</td>\n",
              "      <td>1</td>\n",
              "      <td>2</td>\n",
              "      <td>4</td>\n",
              "      <td>6</td>\n",
              "      <td>11</td>\n",
              "      <td>4</td>\n",
              "      <td>6</td>\n",
              "      <td>7</td>\n",
              "      <td>10</td>\n",
              "      <td>15</td>\n",
              "      <td>20</td>\n",
              "      <td>1</td>\n",
              "      <td>5</td>\n",
              "      <td>7</td>\n",
              "      <td>8</td>\n",
              "      <td>1</td>\n",
              "      <td>14</td>\n",
              "      <td>33</td>\n",
              "      <td>47</td>\n",
              "      <td>1.657414</td>\n",
              "      <td>2.588330</td>\n",
              "      <td>0</td>\n",
              "      <td>0</td>\n",
              "      <td>0</td>\n",
              "      <td>0.032220</td>\n",
              "      <td>7</td>\n",
              "      <td>10</td>\n",
              "      <td>19</td>\n",
              "      <td>199</td>\n",
              "      <td>38</td>\n",
              "      <td>1343.0</td>\n",
              "      <td>370.0</td>\n",
              "      <td>3.829268</td>\n",
              "      <td>4.529412</td>\n",
              "      <td>1938.331361</td>\n",
              "      <td>1946.529412</td>\n",
              "      <td>Нижегородская область</td>\n",
              "      <td>56.328236</td>\n",
              "      <td>43.990039</td>\n",
              "      <td>208.625735</td>\n",
              "      <td>S21753</td>\n",
              "      <td>2020-12-27</td>\n",
              "      <td>10</td>\n",
              "      <td>1</td>\n",
              "    </tr>\n",
              "    <tr>\n",
              "      <th>2973</th>\n",
              "      <td>Нижний Новгород</td>\n",
              "      <td>NaN</td>\n",
              "      <td>COL_455397</td>\n",
              "      <td>1</td>\n",
              "      <td>52</td>\n",
              "      <td>111</td>\n",
              "      <td>146</td>\n",
              "      <td>0</td>\n",
              "      <td>0</td>\n",
              "      <td>0</td>\n",
              "      <td>0</td>\n",
              "      <td>1</td>\n",
              "      <td>7</td>\n",
              "      <td>20</td>\n",
              "      <td>28</td>\n",
              "      <td>8.620167</td>\n",
              "      <td>Нижний Новгород</td>\n",
              "      <td>1252236.0</td>\n",
              "      <td>0.054001</td>\n",
              "      <td>1</td>\n",
              "      <td>19</td>\n",
              "      <td>27</td>\n",
              "      <td>39</td>\n",
              "      <td>0</td>\n",
              "      <td>0</td>\n",
              "      <td>4</td>\n",
              "      <td>4</td>\n",
              "      <td>0</td>\n",
              "      <td>3</td>\n",
              "      <td>7</td>\n",
              "      <td>14</td>\n",
              "      <td>1</td>\n",
              "      <td>2</td>\n",
              "      <td>2</td>\n",
              "      <td>2</td>\n",
              "      <td>6</td>\n",
              "      <td>8</td>\n",
              "      <td>0</td>\n",
              "      <td>0</td>\n",
              "      <td>2</td>\n",
              "      <td>2</td>\n",
              "      <td>4</td>\n",
              "      <td>7</td>\n",
              "      <td>0</td>\n",
              "      <td>2</td>\n",
              "      <td>4</td>\n",
              "      <td>8</td>\n",
              "      <td>0</td>\n",
              "      <td>36</td>\n",
              "      <td>69</td>\n",
              "      <td>81</td>\n",
              "      <td>2.114953</td>\n",
              "      <td>1.017884</td>\n",
              "      <td>0</td>\n",
              "      <td>0</td>\n",
              "      <td>0</td>\n",
              "      <td>0.419797</td>\n",
              "      <td>1</td>\n",
              "      <td>18</td>\n",
              "      <td>19</td>\n",
              "      <td>134</td>\n",
              "      <td>50</td>\n",
              "      <td>2932.0</td>\n",
              "      <td>943.0</td>\n",
              "      <td>6.961240</td>\n",
              "      <td>5.440000</td>\n",
              "      <td>1972.892308</td>\n",
              "      <td>1963.940000</td>\n",
              "      <td>Нижегородская область</td>\n",
              "      <td>56.343952</td>\n",
              "      <td>43.869360</td>\n",
              "      <td>232.109058</td>\n",
              "      <td>S28997</td>\n",
              "      <td>2020-12-27</td>\n",
              "      <td>100</td>\n",
              "      <td>1</td>\n",
              "    </tr>\n",
              "  </tbody>\n",
              "</table>\n",
              "<p>2974 rows × 76 columns</p>\n",
              "</div>"
            ],
            "text/plain": [
              "                 city floor          id  ...        date  realty_type  price_type\n",
              "0               Курск   1.0  COL_289284  ...  2020-09-06          100           1\n",
              "1              Сургут   1.0  COL_289305  ...  2020-09-06          110           1\n",
              "2              Тюмень  -1.0  COL_289318  ...  2020-09-06           10           1\n",
              "3             Иркутск   1.0  COL_289354  ...  2020-09-06          100           1\n",
              "4               Курск   NaN  COL_289399  ...  2020-09-06           10           1\n",
              "...               ...   ...         ...  ...         ...          ...         ...\n",
              "2969       Красноярск   4.0  COL_455089  ...  2020-12-27          100           1\n",
              "2970            Томск   1.0  COL_455212  ...  2020-12-27           10           1\n",
              "2971           Калуга  -1.0  COL_455261  ...  2020-12-27          100           1\n",
              "2972  Нижний Новгород   NaN  COL_455381  ...  2020-12-27           10           1\n",
              "2973  Нижний Новгород   NaN  COL_455397  ...  2020-12-27          100           1\n",
              "\n",
              "[2974 rows x 76 columns]"
            ]
          },
          "execution_count": 57,
          "metadata": {},
          "output_type": "execute_result"
        }
      ]
    },
    {
      "cell_type": "code",
      "metadata": {
        "id": "4W03XysyUr3s"
      },
      "source": [
        "df = pd.read_csv('/content/drive/MyDrive/Raifhack/eugene/for_armen.csv')\n",
        "price = df[['Unnamed: 0','per_square_meter_price']]\n",
        "df1 = df.drop('Unnamed: 0',axis = 1)"
      ],
      "execution_count": null,
      "outputs": []
    },
    {
      "cell_type": "code",
      "metadata": {
        "id": "CYJSA8tyUuY6"
      },
      "source": [
        "price = price.iloc[:100]\n",
        "df1 = df1.iloc[:100]"
      ],
      "execution_count": null,
      "outputs": []
    },
    {
      "cell_type": "code",
      "metadata": {
        "colab": {
          "base_uri": "https://localhost:8080/"
        },
        "id": "4QJt73JDnerl",
        "outputId": "b76bfff0-f5c8-4e9e-83bf-b7627d4b6740"
      },
      "source": [
        "price['per_square_meter_price']"
      ],
      "execution_count": null,
      "outputs": [
        {
          "data": {
            "text/plain": [
              "0     139937.500000\n",
              "1      60410.714286\n",
              "2      45164.761264\n",
              "3      28805.263158\n",
              "4      13222.591362\n",
              "          ...      \n",
              "95     71866.666667\n",
              "96     18885.802469\n",
              "97    174816.810345\n",
              "98     63510.638298\n",
              "99     43797.729618\n",
              "Name: per_square_meter_price, Length: 100, dtype: float64"
            ]
          },
          "execution_count": 6,
          "metadata": {},
          "output_type": "execute_result"
        }
      ]
    },
    {
      "cell_type": "code",
      "metadata": {
        "colab": {
          "base_uri": "https://localhost:8080/",
          "height": 419
        },
        "id": "odQ7lzS8ZAMy",
        "outputId": "db2463aa-eb34-4608-ffd5-c02a34342db4"
      },
      "source": [
        "df1"
      ],
      "execution_count": null,
      "outputs": [
        {
          "data": {
            "text/html": [
              "<div>\n",
              "<style scoped>\n",
              "    .dataframe tbody tr th:only-of-type {\n",
              "        vertical-align: middle;\n",
              "    }\n",
              "\n",
              "    .dataframe tbody tr th {\n",
              "        vertical-align: top;\n",
              "    }\n",
              "\n",
              "    .dataframe thead th {\n",
              "        text-align: right;\n",
              "    }\n",
              "</style>\n",
              "<table border=\"1\" class=\"dataframe\">\n",
              "  <thead>\n",
              "    <tr style=\"text-align: right;\">\n",
              "      <th></th>\n",
              "      <th>region</th>\n",
              "      <th>street</th>\n",
              "      <th>realty_type</th>\n",
              "      <th>total_square</th>\n",
              "      <th>lng</th>\n",
              "      <th>lat</th>\n",
              "      <th>per_square_meter_price</th>\n",
              "    </tr>\n",
              "  </thead>\n",
              "  <tbody>\n",
              "    <tr>\n",
              "      <th>0</th>\n",
              "      <td>31</td>\n",
              "      <td>16109</td>\n",
              "      <td>10</td>\n",
              "      <td>32.0</td>\n",
              "      <td>56.292797</td>\n",
              "      <td>57.998207</td>\n",
              "      <td>139937.500000</td>\n",
              "    </tr>\n",
              "    <tr>\n",
              "      <th>1</th>\n",
              "      <td>25</td>\n",
              "      <td>6485</td>\n",
              "      <td>10</td>\n",
              "      <td>280.0</td>\n",
              "      <td>39.543835</td>\n",
              "      <td>55.574284</td>\n",
              "      <td>60410.714286</td>\n",
              "    </tr>\n",
              "    <tr>\n",
              "      <th>2</th>\n",
              "      <td>48</td>\n",
              "      <td>6340</td>\n",
              "      <td>110</td>\n",
              "      <td>297.4</td>\n",
              "      <td>39.850525</td>\n",
              "      <td>57.619140</td>\n",
              "      <td>45164.761264</td>\n",
              "    </tr>\n",
              "    <tr>\n",
              "      <th>3</th>\n",
              "      <td>14</td>\n",
              "      <td>111</td>\n",
              "      <td>110</td>\n",
              "      <td>190.0</td>\n",
              "      <td>87.108604</td>\n",
              "      <td>53.897083</td>\n",
              "      <td>28805.263158</td>\n",
              "    </tr>\n",
              "    <tr>\n",
              "      <th>4</th>\n",
              "      <td>24</td>\n",
              "      <td>3102</td>\n",
              "      <td>10</td>\n",
              "      <td>60.2</td>\n",
              "      <td>37.487110</td>\n",
              "      <td>55.802590</td>\n",
              "      <td>13222.591362</td>\n",
              "    </tr>\n",
              "    <tr>\n",
              "      <th>...</th>\n",
              "      <td>...</td>\n",
              "      <td>...</td>\n",
              "      <td>...</td>\n",
              "      <td>...</td>\n",
              "      <td>...</td>\n",
              "      <td>...</td>\n",
              "      <td>...</td>\n",
              "    </tr>\n",
              "    <tr>\n",
              "      <th>95</th>\n",
              "      <td>46</td>\n",
              "      <td>4290</td>\n",
              "      <td>10</td>\n",
              "      <td>90.0</td>\n",
              "      <td>75.185250</td>\n",
              "      <td>61.249780</td>\n",
              "      <td>71866.666667</td>\n",
              "    </tr>\n",
              "    <tr>\n",
              "      <th>96</th>\n",
              "      <td>43</td>\n",
              "      <td>15568</td>\n",
              "      <td>10</td>\n",
              "      <td>324.0</td>\n",
              "      <td>65.633830</td>\n",
              "      <td>57.188995</td>\n",
              "      <td>18885.802469</td>\n",
              "    </tr>\n",
              "    <tr>\n",
              "      <th>97</th>\n",
              "      <td>24</td>\n",
              "      <td>3034</td>\n",
              "      <td>100</td>\n",
              "      <td>92.8</td>\n",
              "      <td>37.654610</td>\n",
              "      <td>55.710130</td>\n",
              "      <td>174816.810345</td>\n",
              "    </tr>\n",
              "    <tr>\n",
              "      <th>98</th>\n",
              "      <td>8</td>\n",
              "      <td>6178</td>\n",
              "      <td>10</td>\n",
              "      <td>47.0</td>\n",
              "      <td>39.182804</td>\n",
              "      <td>51.710087</td>\n",
              "      <td>63510.638298</td>\n",
              "    </tr>\n",
              "    <tr>\n",
              "      <th>99</th>\n",
              "      <td>8</td>\n",
              "      <td>24624</td>\n",
              "      <td>10</td>\n",
              "      <td>96.9</td>\n",
              "      <td>39.164810</td>\n",
              "      <td>51.645885</td>\n",
              "      <td>43797.729618</td>\n",
              "    </tr>\n",
              "  </tbody>\n",
              "</table>\n",
              "<p>100 rows × 7 columns</p>\n",
              "</div>"
            ],
            "text/plain": [
              "    region  street  realty_type  ...        lng        lat  per_square_meter_price\n",
              "0       31   16109           10  ...  56.292797  57.998207           139937.500000\n",
              "1       25    6485           10  ...  39.543835  55.574284            60410.714286\n",
              "2       48    6340          110  ...  39.850525  57.619140            45164.761264\n",
              "3       14     111          110  ...  87.108604  53.897083            28805.263158\n",
              "4       24    3102           10  ...  37.487110  55.802590            13222.591362\n",
              "..     ...     ...          ...  ...        ...        ...                     ...\n",
              "95      46    4290           10  ...  75.185250  61.249780            71866.666667\n",
              "96      43   15568           10  ...  65.633830  57.188995            18885.802469\n",
              "97      24    3034          100  ...  37.654610  55.710130           174816.810345\n",
              "98       8    6178           10  ...  39.182804  51.710087            63510.638298\n",
              "99       8   24624           10  ...  39.164810  51.645885            43797.729618\n",
              "\n",
              "[100 rows x 7 columns]"
            ]
          },
          "execution_count": 5,
          "metadata": {},
          "output_type": "execute_result"
        }
      ]
    },
    {
      "cell_type": "code",
      "metadata": {
        "id": "mrRO2bY0Utwz"
      },
      "source": [
        "df_massiv = df1.to_numpy()\n"
      ],
      "execution_count": null,
      "outputs": []
    },
    {
      "cell_type": "code",
      "metadata": {
        "colab": {
          "base_uri": "https://localhost:8080/"
        },
        "id": "xmbS6UjJZOoB",
        "outputId": "6baf67cb-b1a6-484e-decc-ce582cd1894f"
      },
      "source": [
        "df_massiv[0][:-1]"
      ],
      "execution_count": null,
      "outputs": [
        {
          "data": {
            "text/plain": [
              "array([3.1000000e+01, 1.6109000e+04, 1.0000000e+01, 3.2000000e+01,\n",
              "       5.6292797e+01, 5.7998207e+01])"
            ]
          },
          "execution_count": 34,
          "metadata": {},
          "output_type": "execute_result"
        }
      ]
    },
    {
      "cell_type": "code",
      "metadata": {
        "colab": {
          "base_uri": "https://localhost:8080/"
        },
        "id": "RqHbZFFLbWaY",
        "outputId": "9fefa29e-d46d-44a4-c92b-7c9761bbfd97"
      },
      "source": [
        "df_massiv[0]"
      ],
      "execution_count": null,
      "outputs": [
        {
          "data": {
            "text/plain": [
              "array([3.1000000e+01, 1.6109000e+04, 1.0000000e+01, 3.2000000e+01,\n",
              "       5.6292797e+01, 5.7998207e+01, 1.3993750e+05])"
            ]
          },
          "execution_count": 35,
          "metadata": {},
          "output_type": "execute_result"
        }
      ]
    },
    {
      "cell_type": "code",
      "metadata": {
        "id": "Rn5r-X73UbNj"
      },
      "source": [
        "def get_analogs(o_ocenki,data_base,k):\n",
        "  kol_vo_analogov = 0\n",
        "  dist_from_o_ocenki = {}\n",
        "  analogs = []\n",
        "  for i in range(0,len(data_base)):\n",
        "    if i !=k and o_ocenki[0] == data_base[i][0]:\n",
        "      # print(data_base[i])\n",
        "      dst = distance.euclidean(o_ocenki[:-1], data_base[i][:-1])\n",
        "      # print(dst)\n",
        "      dist_from_o_ocenki[i] = dst\n",
        "      kol_vo_analogov += 1\n",
        "  sorted_dist_from_o_ocenki = sorted(dist_from_o_ocenki.items(), key=operator.itemgetter(1))\n",
        "  \n",
        "  for i in range(0, kol_vo_analogov):\n",
        "    if i == 6:\n",
        "      break\n",
        "    analogs.append(data_base[sorted_dist_from_o_ocenki[i][0]]) \n",
        "  return analogs"
      ],
      "execution_count": null,
      "outputs": []
    },
    {
      "cell_type": "code",
      "metadata": {
        "id": "hc3CV6c0cLsH"
      },
      "source": [
        "def get_mean_analog_price(o_ocenki,analogs):\n",
        "  return o_ocenki[-1], np.mean([i[-1] for i in analogs])"
      ],
      "execution_count": null,
      "outputs": []
    },
    {
      "cell_type": "code",
      "metadata": {
        "colab": {
          "base_uri": "https://localhost:8080/"
        },
        "id": "ug8BMs8CctVW",
        "outputId": "f02ae350-0a92-428d-fc30-c0024ef38c61"
      },
      "source": [
        "get_mean_analog_price(ob_oc[0],ob_analogs[0])"
      ],
      "execution_count": null,
      "outputs": [
        {
          "data": {
            "text/plain": [
              "(139937.5, 11443.358251868889)"
            ]
          },
          "execution_count": 55,
          "metadata": {},
          "output_type": "execute_result"
        }
      ]
    },
    {
      "cell_type": "code",
      "metadata": {
        "id": "6LfHXPZXPtXZ"
      },
      "source": [
        "import requests\n",
        "\n",
        "r = requests.post('http://inform-ocenka-calc.online/api/geo/address_to_coord', \n",
        "                  json=[{\"address\":'Бетанкура 3', \"city\":'Нижний Новгород'},\n",
        "                        {\"address\":'Народная 54', \"city\":'Нижний Новгород'}]\n",
        "                        )\n",
        "r.json()"
      ],
      "execution_count": null,
      "outputs": []
    },
    {
      "cell_type": "code",
      "metadata": {
        "colab": {
          "base_uri": "https://localhost:8080/",
          "height": 340
        },
        "id": "S3D0IFvaR7qH",
        "outputId": "9acbb23f-218b-4269-836f-bf9b3c984bf5"
      },
      "source": [
        "import requests\n",
        "r = requests.post('http://inform-ocenka-calc.online/api/geo/radius_pois',\n",
        "                  json= {\"latitude\":[56.314312, 56.314312],\n",
        "                         \"longitude\":[44.011754, 44.011754],\n",
        "                         \"city\": \"Нижний Новгород\",\n",
        "                         \"dist\": 500})\n",
        "\n",
        "r.json()"
      ],
      "execution_count": null,
      "outputs": [
        {
          "ename": "JSONDecodeError",
          "evalue": "ignored",
          "output_type": "error",
          "traceback": [
            "\u001b[0;31m---------------------------------------------------------------------------\u001b[0m",
            "\u001b[0;31mJSONDecodeError\u001b[0m                           Traceback (most recent call last)",
            "\u001b[0;32m<ipython-input-1-db0487dfd8f3>\u001b[0m in \u001b[0;36m<module>\u001b[0;34m()\u001b[0m\n\u001b[1;32m      6\u001b[0m                          \"dist\": 500})\n\u001b[1;32m      7\u001b[0m \u001b[0;34m\u001b[0m\u001b[0m\n\u001b[0;32m----> 8\u001b[0;31m \u001b[0mr\u001b[0m\u001b[0;34m.\u001b[0m\u001b[0mjson\u001b[0m\u001b[0;34m(\u001b[0m\u001b[0;34m)\u001b[0m\u001b[0;34m\u001b[0m\u001b[0;34m\u001b[0m\u001b[0m\n\u001b[0m",
            "\u001b[0;32m/usr/local/lib/python3.7/dist-packages/requests/models.py\u001b[0m in \u001b[0;36mjson\u001b[0;34m(self, **kwargs)\u001b[0m\n\u001b[1;32m    896\u001b[0m                     \u001b[0;31m# used.\u001b[0m\u001b[0;34m\u001b[0m\u001b[0;34m\u001b[0m\u001b[0;34m\u001b[0m\u001b[0m\n\u001b[1;32m    897\u001b[0m                     \u001b[0;32mpass\u001b[0m\u001b[0;34m\u001b[0m\u001b[0;34m\u001b[0m\u001b[0m\n\u001b[0;32m--> 898\u001b[0;31m         \u001b[0;32mreturn\u001b[0m \u001b[0mcomplexjson\u001b[0m\u001b[0;34m.\u001b[0m\u001b[0mloads\u001b[0m\u001b[0;34m(\u001b[0m\u001b[0mself\u001b[0m\u001b[0;34m.\u001b[0m\u001b[0mtext\u001b[0m\u001b[0;34m,\u001b[0m \u001b[0;34m**\u001b[0m\u001b[0mkwargs\u001b[0m\u001b[0;34m)\u001b[0m\u001b[0;34m\u001b[0m\u001b[0;34m\u001b[0m\u001b[0m\n\u001b[0m\u001b[1;32m    899\u001b[0m \u001b[0;34m\u001b[0m\u001b[0m\n\u001b[1;32m    900\u001b[0m     \u001b[0;34m@\u001b[0m\u001b[0mproperty\u001b[0m\u001b[0;34m\u001b[0m\u001b[0;34m\u001b[0m\u001b[0m\n",
            "\u001b[0;32m/usr/lib/python3.7/json/__init__.py\u001b[0m in \u001b[0;36mloads\u001b[0;34m(s, encoding, cls, object_hook, parse_float, parse_int, parse_constant, object_pairs_hook, **kw)\u001b[0m\n\u001b[1;32m    346\u001b[0m             \u001b[0mparse_int\u001b[0m \u001b[0;32mis\u001b[0m \u001b[0;32mNone\u001b[0m \u001b[0;32mand\u001b[0m \u001b[0mparse_float\u001b[0m \u001b[0;32mis\u001b[0m \u001b[0;32mNone\u001b[0m \u001b[0;32mand\u001b[0m\u001b[0;34m\u001b[0m\u001b[0;34m\u001b[0m\u001b[0m\n\u001b[1;32m    347\u001b[0m             parse_constant is None and object_pairs_hook is None and not kw):\n\u001b[0;32m--> 348\u001b[0;31m         \u001b[0;32mreturn\u001b[0m \u001b[0m_default_decoder\u001b[0m\u001b[0;34m.\u001b[0m\u001b[0mdecode\u001b[0m\u001b[0;34m(\u001b[0m\u001b[0ms\u001b[0m\u001b[0;34m)\u001b[0m\u001b[0;34m\u001b[0m\u001b[0;34m\u001b[0m\u001b[0m\n\u001b[0m\u001b[1;32m    349\u001b[0m     \u001b[0;32mif\u001b[0m \u001b[0mcls\u001b[0m \u001b[0;32mis\u001b[0m \u001b[0;32mNone\u001b[0m\u001b[0;34m:\u001b[0m\u001b[0;34m\u001b[0m\u001b[0;34m\u001b[0m\u001b[0m\n\u001b[1;32m    350\u001b[0m         \u001b[0mcls\u001b[0m \u001b[0;34m=\u001b[0m \u001b[0mJSONDecoder\u001b[0m\u001b[0;34m\u001b[0m\u001b[0;34m\u001b[0m\u001b[0m\n",
            "\u001b[0;32m/usr/lib/python3.7/json/decoder.py\u001b[0m in \u001b[0;36mdecode\u001b[0;34m(self, s, _w)\u001b[0m\n\u001b[1;32m    335\u001b[0m \u001b[0;34m\u001b[0m\u001b[0m\n\u001b[1;32m    336\u001b[0m         \"\"\"\n\u001b[0;32m--> 337\u001b[0;31m         \u001b[0mobj\u001b[0m\u001b[0;34m,\u001b[0m \u001b[0mend\u001b[0m \u001b[0;34m=\u001b[0m \u001b[0mself\u001b[0m\u001b[0;34m.\u001b[0m\u001b[0mraw_decode\u001b[0m\u001b[0;34m(\u001b[0m\u001b[0ms\u001b[0m\u001b[0;34m,\u001b[0m \u001b[0midx\u001b[0m\u001b[0;34m=\u001b[0m\u001b[0m_w\u001b[0m\u001b[0;34m(\u001b[0m\u001b[0ms\u001b[0m\u001b[0;34m,\u001b[0m \u001b[0;36m0\u001b[0m\u001b[0;34m)\u001b[0m\u001b[0;34m.\u001b[0m\u001b[0mend\u001b[0m\u001b[0;34m(\u001b[0m\u001b[0;34m)\u001b[0m\u001b[0;34m)\u001b[0m\u001b[0;34m\u001b[0m\u001b[0;34m\u001b[0m\u001b[0m\n\u001b[0m\u001b[1;32m    338\u001b[0m         \u001b[0mend\u001b[0m \u001b[0;34m=\u001b[0m \u001b[0m_w\u001b[0m\u001b[0;34m(\u001b[0m\u001b[0ms\u001b[0m\u001b[0;34m,\u001b[0m \u001b[0mend\u001b[0m\u001b[0;34m)\u001b[0m\u001b[0;34m.\u001b[0m\u001b[0mend\u001b[0m\u001b[0;34m(\u001b[0m\u001b[0;34m)\u001b[0m\u001b[0;34m\u001b[0m\u001b[0;34m\u001b[0m\u001b[0m\n\u001b[1;32m    339\u001b[0m         \u001b[0;32mif\u001b[0m \u001b[0mend\u001b[0m \u001b[0;34m!=\u001b[0m \u001b[0mlen\u001b[0m\u001b[0;34m(\u001b[0m\u001b[0ms\u001b[0m\u001b[0;34m)\u001b[0m\u001b[0;34m:\u001b[0m\u001b[0;34m\u001b[0m\u001b[0;34m\u001b[0m\u001b[0m\n",
            "\u001b[0;32m/usr/lib/python3.7/json/decoder.py\u001b[0m in \u001b[0;36mraw_decode\u001b[0;34m(self, s, idx)\u001b[0m\n\u001b[1;32m    353\u001b[0m             \u001b[0mobj\u001b[0m\u001b[0;34m,\u001b[0m \u001b[0mend\u001b[0m \u001b[0;34m=\u001b[0m \u001b[0mself\u001b[0m\u001b[0;34m.\u001b[0m\u001b[0mscan_once\u001b[0m\u001b[0;34m(\u001b[0m\u001b[0ms\u001b[0m\u001b[0;34m,\u001b[0m \u001b[0midx\u001b[0m\u001b[0;34m)\u001b[0m\u001b[0;34m\u001b[0m\u001b[0;34m\u001b[0m\u001b[0m\n\u001b[1;32m    354\u001b[0m         \u001b[0;32mexcept\u001b[0m \u001b[0mStopIteration\u001b[0m \u001b[0;32mas\u001b[0m \u001b[0merr\u001b[0m\u001b[0;34m:\u001b[0m\u001b[0;34m\u001b[0m\u001b[0;34m\u001b[0m\u001b[0m\n\u001b[0;32m--> 355\u001b[0;31m             \u001b[0;32mraise\u001b[0m \u001b[0mJSONDecodeError\u001b[0m\u001b[0;34m(\u001b[0m\u001b[0;34m\"Expecting value\"\u001b[0m\u001b[0;34m,\u001b[0m \u001b[0ms\u001b[0m\u001b[0;34m,\u001b[0m \u001b[0merr\u001b[0m\u001b[0;34m.\u001b[0m\u001b[0mvalue\u001b[0m\u001b[0;34m)\u001b[0m \u001b[0;32mfrom\u001b[0m \u001b[0;32mNone\u001b[0m\u001b[0;34m\u001b[0m\u001b[0;34m\u001b[0m\u001b[0m\n\u001b[0m\u001b[1;32m    356\u001b[0m         \u001b[0;32mreturn\u001b[0m \u001b[0mobj\u001b[0m\u001b[0;34m,\u001b[0m \u001b[0mend\u001b[0m\u001b[0;34m\u001b[0m\u001b[0;34m\u001b[0m\u001b[0m\n",
            "\u001b[0;31mJSONDecodeError\u001b[0m: Expecting value: line 1 column 1 (char 0)"
          ]
        }
      ]
    },
    {
      "cell_type": "code",
      "metadata": {
        "colab": {
          "base_uri": "https://localhost:8080/"
        },
        "id": "wVBkFGww4Cyu",
        "outputId": "08be5184-30eb-4a8b-8001-85c6b41eccba"
      },
      "source": [
        "import requests\n",
        "\n",
        "r = requests.post('http://inform-ocenka-calc.online/api/geo/check_distr',                   \n",
        "                  json={\"coords\": [{\"Latitude\":56.333714, \"Longitude\":43.95684}], \n",
        "                        \"city\": [\"Нижний Новгород\"]}\n",
        "                  )\n",
        "r.json()"
      ],
      "execution_count": null,
      "outputs": [
        {
          "data": {
            "text/plain": [
              "[[[[], ['Спальный микрорайон 25'], []], []]]"
            ]
          },
          "execution_count": 4,
          "metadata": {},
          "output_type": "execute_result"
        }
      ]
    },
    {
      "cell_type": "code",
      "metadata": {
        "colab": {
          "base_uri": "https://localhost:8080/"
        },
        "id": "6rIlMS_i89AB",
        "outputId": "bc1f1856-aad8-4762-8205-07c01ef8afc9"
      },
      "source": [
        "import requests\n",
        "\n",
        "r = requests.post('http://inform-ocenka-calc.online/api/geo/get_nearest_points',                   \n",
        "                  json={\"coords\": [{\"Latitude\":56.227981, \"Longitude\":43.828068},\n",
        "\t\t\t\t\t \t\t\t\t{\"Latitude\":56.227981, \"Longitude\":43.828068}], \n",
        "                        \"city\": \"Нижний Новгород\",\n",
        "                        \"type_\":\"aerodrome\",\n",
        "                        \"type_\":\"stop_position\"}\n",
        "                  )\n",
        "# { \"coords\": [{\"Latitude\": 56.324102,\"Longitude\": 44.008798}],\n",
        "#  \"city\": \"Нижний Новгород\",\n",
        "#  \"type_\": \"stop_position\"}\n",
        "r.json()"
      ],
      "execution_count": null,
      "outputs": [
        {
          "data": {
            "text/plain": [
              "[{'direct_dist': 78.99640229609513,\n",
              "  'obj_coords': [56.227981, 43.828068],\n",
              "  'poi_coords': [56.2277481998876, 43.8292711],\n",
              "  'poi_title': 'Школа №170',\n",
              "  'time': -1000.0,\n",
              "  'walking_dist': -1000.0},\n",
              " {'direct_dist': 78.99640229609513,\n",
              "  'obj_coords': [56.227981, 43.828068],\n",
              "  'poi_coords': [56.2277481998876, 43.8292711],\n",
              "  'poi_title': 'Школа №170',\n",
              "  'time': -1000.0,\n",
              "  'walking_dist': -1000.0}]"
            ]
          },
          "execution_count": 3,
          "metadata": {},
          "output_type": "execute_result"
        }
      ]
    },
    {
      "cell_type": "code",
      "metadata": {
        "id": "-zLRYur5UhWc"
      },
      "source": [
        "# %%timeit\n",
        "ob_oc= {}\n",
        "ob_analogs= {}\n",
        "for k in range(0,len(df_massiv)):\n",
        "  ob_oc[k] = df_massiv[k]\n",
        "  ob_analogs[k] = get_analogs(df_massiv[k],df_massiv,k)"
      ],
      "execution_count": null,
      "outputs": []
    },
    {
      "cell_type": "code",
      "metadata": {
        "colab": {
          "base_uri": "https://localhost:8080/"
        },
        "id": "G0z7f6g_gZop",
        "outputId": "fbee3a77-5361-461b-81e8-1da16a04c386"
      },
      "source": [
        "ob_oc[0][0]"
      ],
      "execution_count": null,
      "outputs": [
        {
          "data": {
            "text/plain": [
              "31.0"
            ]
          },
          "execution_count": 42,
          "metadata": {},
          "output_type": "execute_result"
        }
      ]
    },
    {
      "cell_type": "code",
      "metadata": {
        "colab": {
          "base_uri": "https://localhost:8080/"
        },
        "id": "cOqaKhMXYZIK",
        "outputId": "63d8034d-f5ed-4200-d54f-0ec6f5dbb7d4"
      },
      "source": [
        "n = 0\n",
        "print('Объект оценки:', list(ob_oc[n]), sep='\\n')\n",
        "print(sep='\\n')\n",
        "print('Объекты аналоги:')\n",
        "list(ob_analogs[n])"
      ],
      "execution_count": null,
      "outputs": [
        {
          "name": "stdout",
          "output_type": "stream",
          "text": [
            "Объект оценки:\n",
            "[31.0, 16109.0, 10.0, 32.0, 56.292797, 57.998207, 139937.5]\n",
            "\n",
            "Объекты аналоги:\n"
          ]
        },
        {
          "data": {
            "text/plain": [
              "[array([3.10000000e+01, 1.58900000e+04, 1.00000000e+01, 1.73900000e+02,\n",
              "        5.66658300e+01, 5.97118530e+01, 1.14433583e+04])]"
            ]
          },
          "execution_count": 56,
          "metadata": {},
          "output_type": "execute_result"
        }
      ]
    },
    {
      "cell_type": "code",
      "metadata": {
        "colab": {
          "base_uri": "https://localhost:8080/"
        },
        "id": "K9ZytIH2cKUO",
        "outputId": "116a03a3-f3af-4469-dd23-455e84c8f87b"
      },
      "source": [
        "(9.55980392e+04 + 1.14433583e+04 + 1.22956274e+05 + 1.88858025e+04 + 1.21341463e+04 + 4.71724138e+04) / 6"
      ],
      "execution_count": null,
      "outputs": [
        {
          "data": {
            "text/plain": [
              "51365.00568333333"
            ]
          },
          "execution_count": 41,
          "metadata": {},
          "output_type": "execute_result"
        }
      ]
    },
    {
      "cell_type": "code",
      "metadata": {
        "colab": {
          "base_uri": "https://localhost:8080/"
        },
        "id": "t715VUOxXp5i",
        "outputId": "4e1b3836-ce5e-4fe1-db91-3988d124f287"
      },
      "source": [
        "list(df_massiv[1])"
      ],
      "execution_count": null,
      "outputs": [
        {
          "data": {
            "text/plain": [
              "[25.0, 6485.0, 10.0, 280.0, 39.543835, 55.574284, 60410.714285714275]"
            ]
          },
          "execution_count": 37,
          "metadata": {},
          "output_type": "execute_result"
        }
      ]
    },
    {
      "cell_type": "code",
      "metadata": {
        "colab": {
          "base_uri": "https://localhost:8080/"
        },
        "id": "HJl9Zq1kb-Fb",
        "outputId": "d6a5e5f4-8e26-44a3-c6ca-c8bc46dc059d"
      },
      "source": [
        "print(pd.DataFrame([df_massiv[1]]))"
      ],
      "execution_count": null,
      "outputs": [
        {
          "name": "stdout",
          "output_type": "stream",
          "text": [
            "      0       1     2      3          4          5             6\n",
            "0  25.0  6485.0  10.0  280.0  39.543835  55.574284  60410.714286\n"
          ]
        }
      ]
    },
    {
      "cell_type": "code",
      "metadata": {
        "colab": {
          "base_uri": "https://localhost:8080/"
        },
        "id": "IeYmJ-hucLfZ",
        "outputId": "489394b1-61f4-4e3e-ef74-999672ac4343"
      },
      "source": [
        ""
      ],
      "execution_count": null,
      "outputs": [
        {
          "name": "stdout",
          "output_type": "stream",
          "text": [
            "                                                   0  ...                                                  5\n",
            "0  [25.0, 6485.0, 10.0, 280.0, 39.543835, 55.5742...  ...  [2.0, 9560.0, 100.0, 139.0, 83.77558, 53.33437...\n",
            "\n",
            "[1 rows x 6 columns]\n"
          ]
        }
      ]
    },
    {
      "cell_type": "code",
      "metadata": {
        "colab": {
          "base_uri": "https://localhost:8080/"
        },
        "id": "TvmW-NS_t_dM",
        "outputId": "349051f7-3659-4a5d-9469-feb3b7c1d754"
      },
      "source": [
        "ob_oc[1]"
      ],
      "execution_count": null,
      "outputs": [
        {
          "data": {
            "text/plain": [
              "array([2.50000000e+01, 6.48500000e+03, 1.00000000e+01, 2.80000000e+02,\n",
              "       3.95438350e+01, 5.55742840e+01, 6.04107143e+04])"
            ]
          },
          "execution_count": 87,
          "metadata": {},
          "output_type": "execute_result"
        }
      ]
    },
    {
      "cell_type": "code",
      "metadata": {
        "colab": {
          "base_uri": "https://localhost:8080/"
        },
        "id": "p1J_gv6kuCAe",
        "outputId": "a6c08693-ac7d-4b65-a7ef-683da663cb3e"
      },
      "source": [
        "ob_analogs[1]"
      ],
      "execution_count": null,
      "outputs": [
        {
          "data": {
            "text/plain": [
              "[array([2.50000000e+01, 6.48500000e+03, 1.00000000e+01, 2.80000000e+02,\n",
              "        3.95438350e+01, 5.55742840e+01, 6.04107143e+04]),\n",
              " array([3.60000000e+01, 8.82000000e+03, 1.00000000e+01, 1.84000000e+02,\n",
              "        4.61202240e+01, 5.14960560e+01, 6.21847826e+04]),\n",
              " array([8.00000000e+00, 6.17800000e+03, 1.00000000e+01, 4.70000000e+01,\n",
              "        3.91828040e+01, 5.17100870e+01, 6.35106383e+04]),\n",
              " array([3.30000000e+01, 1.30740000e+04, 1.00000000e+02, 1.20000000e+02,\n",
              "        3.96680830e+01, 4.72263000e+01, 6.05333333e+04]),\n",
              " array([3.40000000e+01, 1.34070000e+04, 1.00000000e+02, 3.08000000e+02,\n",
              "        5.02036320e+01, 5.32579000e+01, 6.01980519e+04]),\n",
              " array([2.00000000e+00, 9.56000000e+03, 1.00000000e+02, 1.39000000e+02,\n",
              "        8.37755800e+01, 5.33343770e+01, 5.15395683e+04])]"
            ]
          },
          "execution_count": 88,
          "metadata": {},
          "output_type": "execute_result"
        }
      ]
    },
    {
      "cell_type": "code",
      "metadata": {
        "id": "UPcfOcE4xeXs"
      },
      "source": [
        ""
      ],
      "execution_count": null,
      "outputs": []
    },
    {
      "cell_type": "code",
      "metadata": {
        "colab": {
          "base_uri": "https://localhost:8080/"
        },
        "id": "v8vAvGyl6WKg",
        "outputId": "d881d1ec-1e4a-44be-ddb0-49e571f69746"
      },
      "source": [
        "my_obyekt_ocenki[1]"
      ],
      "execution_count": null,
      "outputs": [
        {
          "data": {
            "text/plain": [
              "array([2, 3, 3, 1])"
            ]
          },
          "execution_count": 121,
          "metadata": {},
          "output_type": "execute_result"
        }
      ]
    },
    {
      "cell_type": "code",
      "metadata": {
        "colab": {
          "base_uri": "https://localhost:8080/"
        },
        "id": "lPgLhWnL8s0C",
        "outputId": "9d87d02c-4759-4d00-fd51-380703067547"
      },
      "source": [
        "my_obyekt_ocenki[:,0][0]"
      ],
      "execution_count": null,
      "outputs": [
        {
          "data": {
            "text/plain": [
              "1"
            ]
          },
          "execution_count": 133,
          "metadata": {},
          "output_type": "execute_result"
        }
      ]
    },
    {
      "cell_type": "code",
      "metadata": {
        "id": "BRbDWX_M5giE"
      },
      "source": [
        "print('Объект оценки')\n",
        "for i in range(0, len(my_obyekt_ocenki)):\n",
        "  print(my_obyekt_ocenki[:,0][i])\n",
        "print('Объект аналог')\n",
        "for i in range(0, len(my_obyekt_analog)):\n",
        "  print(my_obyekt_analog[:,0][i])"
      ],
      "execution_count": null,
      "outputs": []
    },
    {
      "cell_type": "code",
      "metadata": {
        "id": "m7NoCIHszI1T"
      },
      "source": [
        "my_obyekt_ocenki = {\"0\": [1, 3, 1, 2],\n",
        "                    \"1\": [2, 3, 3, 1]}\n",
        "\n",
        "my_obyekt_analog = {\"0\": [[1, 2, 1, 1],\n",
        "                         [2, 1, 3, 1],\n",
        "                         [3, 2, 1, 2],\n",
        "                         [1, 3, 3, 2],\n",
        "                         [4, 1, 1, 1],\n",
        "                         [2, 3, 2, 2]],\n",
        "                    \"1\": [[2, 3, 2, 1],\n",
        "                         [2, 2, 1, 2],\n",
        "                         [3, 3, 2, 1],\n",
        "                         [1, 2, 3, 2],\n",
        "                         [4, 2, 1, 1],\n",
        "                         [2, 3, 1, 2]]}"
      ],
      "execution_count": null,
      "outputs": []
    },
    {
      "cell_type": "code",
      "metadata": {
        "colab": {
          "base_uri": "https://localhost:8080/"
        },
        "id": "V08P-yPrCc-H",
        "outputId": "3c400406-a636-40e6-ee87-4b3409fe3929"
      },
      "source": [
        "for i in range(0,len(my_obyekt_ocenki)):\n",
        "  "
      ],
      "execution_count": null,
      "outputs": [
        {
          "data": {
            "text/plain": [
              "2"
            ]
          },
          "execution_count": 146,
          "metadata": {},
          "output_type": "execute_result"
        }
      ]
    },
    {
      "cell_type": "code",
      "metadata": {
        "colab": {
          "base_uri": "https://localhost:8080/"
        },
        "id": "3OgtZ1k4Erlu",
        "outputId": "e0fd5030-b6b4-4d01-f2e3-6010bb9aacd1"
      },
      "source": [
        "my_obyekt_ocenki[\"0\"][0]"
      ],
      "execution_count": null,
      "outputs": [
        {
          "data": {
            "text/plain": [
              "1"
            ]
          },
          "execution_count": 184,
          "metadata": {},
          "output_type": "execute_result"
        }
      ]
    },
    {
      "cell_type": "code",
      "metadata": {
        "colab": {
          "base_uri": "https://localhost:8080/"
        },
        "id": "CDvC8W134dSi",
        "outputId": "a8a091c6-b137-497e-89c8-c0de28226851"
      },
      "source": [
        "# my_obyekt_ocenki[\"1\"]\n",
        "# for k in range(0,len(my_obyekt_ocenki[\"0\"])):\n",
        "\n",
        "print(my_obyekt_ocenki[\"0\"][0])\n",
        "print('dd')\n",
        "for i in range(0,len(my_obyekt_analog[\"0\"])):\n",
        "  print(my_obyekt_analog[\"0\"][i][0])"
      ],
      "execution_count": null,
      "outputs": [
        {
          "name": "stdout",
          "output_type": "stream",
          "text": [
            "1\n",
            "dd\n",
            "1\n",
            "2\n",
            "3\n",
            "1\n",
            "4\n",
            "2\n"
          ]
        }
      ]
    },
    {
      "cell_type": "code",
      "metadata": {
        "colab": {
          "base_uri": "https://localhost:8080/"
        },
        "id": "cHgNfO0Hp9Fl",
        "outputId": "107194d5-1a99-4427-ede7-8587dd6c249c"
      },
      "source": [
        "# по столбцам параметры\n",
        "# 0 -город\n",
        "# 1 - этаж\n",
        "# 2 - класс\n",
        "# 3 - отделька\n",
        "korr_factors = {\"0\": {\"1\": 1,\"2\": 0.9,\"3\": 0.85, \"4\": 0.75}, \n",
        "              \"1\": {\"1\": 1,\"2\": 0.85,\"3\": 0.8},\n",
        "              \"2\": {\"1\": 1,\"2\": 0.9,\"3\": 0.85},\n",
        "              \"3\": {\"1\": 1,\"2\": 0.8}}\n",
        "\n",
        "\n",
        "\n",
        "# ob_oc[1][0]\n",
        "korr_o_ocenki = korr_factors[\"0\"][\"3\"]\n",
        "korr_o_analog = korr_factors[\"0\"][\"2\"]\n",
        "korr_otnoshenie = round(korr_o_ocenki / korr_o_analog,2)\n",
        "print('Корректировка объекта оценки',korr_o_ocenki, sep = '\\n')\n",
        "print('Корректировка объекта аналога',korr_o_analog, sep = '\\n')\n",
        "print('Отношение корректировок',korr_otnoshenie, sep = '\\n')"
      ],
      "execution_count": null,
      "outputs": [
        {
          "name": "stdout",
          "output_type": "stream",
          "text": [
            "Корректировка объекта оценки\n",
            "0.85\n",
            "Корректировка объекта аналога\n",
            "0.9\n",
            "Отношение корректировок\n",
            "0.94\n"
          ]
        }
      ]
    },
    {
      "cell_type": "code",
      "metadata": {
        "id": "x9fVU-tN1rxM"
      },
      "source": [
        "def calculate_corrections(ob_ocenki, ob_analog):\n",
        "  # Цикл объектам\n",
        "  for k in range(0, len(my_obyekt_ocenki[1])):\n",
        "    # Цикл по факторам\n",
        "    for i  in range(0,len(my_obyekt_ocenki)):\n",
        "      factor_znach_OO = my_obyekt_ocenki[i][k])\n",
        "      korr_o_ocenki = korr_factors[\"0\"][factor_znach_OO]\n",
        "      korr_o_analog = korr_factors[\"0\"][\"2\"]\n",
        "      korr_otnoshenie = round(korr_o_ocenki / korr_o_analog,2)\n",
        "      print('Корректировка объекта оценки',korr_o_ocenki, sep = '\\n')\n",
        "      print('Корректировка объекта аналога',korr_o_analog, sep = '\\n')\n",
        "      print('Отношение корректировок',korr_otnoshenie, sep = '\\n')\n"
      ],
      "execution_count": null,
      "outputs": []
    },
    {
      "cell_type": "markdown",
      "metadata": {
        "id": "nr4x6awGszJE"
      },
      "source": [
        "**ДЗ**"
      ]
    },
    {
      "cell_type": "code",
      "metadata": {
        "id": "lxov4PKWqdBZ"
      },
      "source": [
        "import requests\n",
        "from bs4 import BeautifulSoup\n",
        "import re\n",
        "import pandas as pd \n",
        "import tqdm\n",
        "from tqdm import notebook\n",
        "import time\n",
        "\n",
        "!pip install selenium\n",
        "!apt-get update # to update ubuntu to correctly run apt install\n",
        "!apt install chromium-chromedriver\n",
        "!cp /usr/lib/chromium-browser/chromedriver /usr/bin\n",
        "import sys\n",
        "sys.path.insert(0,'/usr/lib/chromium-browser/chromedriver')\n",
        "from selenium import webdriver\n",
        "chrome_options = webdriver.ChromeOptions()\n",
        "chrome_options.add_argument('--headless')\n",
        "chrome_options.add_argument('--no-sandbox')\n",
        "chrome_options.add_argument('--disable-dev-shm-usage')\n",
        "wd = webdriver.Chrome('chromedriver',chrome_options=chrome_options)"
      ],
      "execution_count": null,
      "outputs": []
    },
    {
      "cell_type": "code",
      "metadata": {
        "id": "r0AkjXnlLn9a"
      },
      "source": [
        "df = {'parse_url':[], 'link':[], 'title':[], 'public_date':[]}"
      ],
      "execution_count": null,
      "outputs": []
    },
    {
      "cell_type": "code",
      "metadata": {
        "colab": {
          "base_uri": "https://localhost:8080/"
        },
        "id": "XrWPTvqzTx6q",
        "outputId": "988264cd-cd3d-42f1-ecc3-8fb2b4a0cd64"
      },
      "source": [
        "date_"
      ],
      "execution_count": null,
      "outputs": [
        {
          "data": {
            "text/plain": [
              "Timestamp('2021-10-10 09:19:15')"
            ]
          },
          "execution_count": 10,
          "metadata": {},
          "output_type": "execute_result"
        }
      ]
    },
    {
      "cell_type": "code",
      "metadata": {
        "id": "Z8sj73__T1Nn"
      },
      "source": [
        "start_date"
      ],
      "execution_count": null,
      "outputs": []
    },
    {
      "cell_type": "code",
      "metadata": {
        "colab": {
          "background_save": true,
          "referenced_widgets": [
            "202deeecc0ec4328a1d899961c632e66"
          ]
        },
        "id": "-i2cLTyDqWI1",
        "outputId": "01256606-9a83-4adc-a182-68116e59fb84"
      },
      "source": [
        "%%time\n",
        "start_date = pd.to_datetime('01.10.2021')\n",
        "end_date = pd.to_datetime('10.10.2021')\n",
        "for day in notebook.tqdm(range(1,11)):   \n",
        "    url  = 'https://news.ycombinator.com/front?day=2021-10-'+str(day)\n",
        "    i = 1\n",
        "    click_more = True\n",
        "    while click_more:\n",
        "\n",
        "      if i==1:\n",
        "        print(url)\n",
        "        time.sleep(0.8)\n",
        "        wd.get(url)\n",
        "      i+=1\n",
        "      r = wd.page_source        \n",
        "      soup = BeautifulSoup(r, 'lxml')\n",
        "      \n",
        "      news = soup.find_all('tr', 'athing')\n",
        "      times = soup.find_all('td', 'subtext')\n",
        "      \n",
        "      for i in range(len(news)):\n",
        "          date_ = times[i].find('span', 'age').get('title')\n",
        "          date_ = pd.to_datetime(date_)    \n",
        "          if date_ < start_date:\n",
        "            click_more =False\n",
        "            break\n",
        "\n",
        "          header = news[i].find_all('td', 'title')[1].text\n",
        "          href = news[i].find('a', 'titlelink').get('href')\n",
        "          df['link'].append(href)\n",
        "          df['title'].append(header)\n",
        "          df['public_date'].append(date_)\n",
        "          df['parse_url'].append(wd.current_url)\n",
        "      if date_ < start_date:\n",
        "        if soup.find('tr', 'morespace'):          \n",
        "            time.sleep(4)\n",
        "            wd.find_elements_by_class_name('morelink')[0].click()\n",
        "            print(wd.current_url)\n",
        "            time.sleep(2)\n",
        "        else:\n",
        "          print('click moore no find')\n",
        "          click_more = False\n",
        "\n"
      ],
      "execution_count": null,
      "outputs": [
        {
          "data": {
            "application/vnd.jupyter.widget-view+json": {
              "model_id": "202deeecc0ec4328a1d899961c632e66",
              "version_major": 2,
              "version_minor": 0
            },
            "text/plain": [
              "  0%|          | 0/10 [00:00<?, ?it/s]"
            ]
          },
          "metadata": {},
          "output_type": "display_data"
        },
        {
          "name": "stdout",
          "output_type": "stream",
          "text": [
            "https://news.ycombinator.com/front?day=2021-10-1\n"
          ]
        },
        {
          "ename": "NameError",
          "evalue": "ignored",
          "output_type": "error",
          "traceback": [
            "\u001b[0;31m---------------------------------------------------------------------------\u001b[0m",
            "\u001b[0;31mNameError\u001b[0m                                 Traceback (most recent call last)",
            "\u001b[0;32m<ipython-input-3-831fb4fd7f63>\u001b[0m in \u001b[0;36m<module>\u001b[0;34m()\u001b[0m\n\u001b[0;32m----> 1\u001b[0;31m \u001b[0mget_ipython\u001b[0m\u001b[0;34m(\u001b[0m\u001b[0;34m)\u001b[0m\u001b[0;34m.\u001b[0m\u001b[0mrun_cell_magic\u001b[0m\u001b[0;34m(\u001b[0m\u001b[0;34m'time'\u001b[0m\u001b[0;34m,\u001b[0m \u001b[0;34m''\u001b[0m\u001b[0;34m,\u001b[0m \u001b[0;34m'start_date = pd.to_datetime(\\'01.10.2021\\')\\nend_date = pd.to_datetime(\\'10.10.2021\\')\\nfor day in notebook.tqdm(range(1,11)):   \\n    url  = \\'https://news.ycombinator.com/front?day=2021-10-\\'+str(day)\\n    i = 1\\n    click_more = True\\n    while click_more:\\n\\n      if i==1:\\n        print(url)\\n        time.sleep(0.8)\\n        wd.get(url)\\n      i+=1\\n      r = wd.page_source        \\n      soup = BeautifulSoup(r, \\'lxml\\')\\n      \\n      news = soup.find_all(\\'tr\\', \\'athing\\')\\n      times = soup.find_all(\\'td\\', \\'subtext\\')\\n      \\n      for i in range(len(news)):\\n          date_ = times[i].find(\\'span\\', \\'age\\').get(\\'title\\')\\n          date_ = pd.to_datetime(date_)    \\n          if date_ < start_date:\\n            print(\"вот сентябрь\")\\n            click_more =False\\n            break\\n\\n          header = news[i].find_all(\\'td\\', \\'title\\')[1].text\\n          href = news[i].find(\\'a\\', \\'titlelink\\').get(\\'href\\')\\n          df[\\'link\\'].append(href)\\n          df[\\'title\\'].append(header)\\n          df[\\'public_date\\'].append(date_)\\n          df[\\'parse_url\\'].append(wd.current_url)\\n      if date_ < start_date:\\n        if soup.find(\\'tr\\', \\'morespace\\'):          \\n            time.sleep(4)\\n            wd.find_elements_by_class_name(\\'morelink\\')[0].click()\\n            print(wd.current_url)\\n            time.sleep(2)\\n        else:\\n          print(\\'click moore no find\\')\\n          click_more = False\\n'\u001b[0m\u001b[0;34m)\u001b[0m\u001b[0;34m\u001b[0m\u001b[0;34m\u001b[0m\u001b[0m\n\u001b[0m",
            "\u001b[0;32m/usr/local/lib/python3.7/dist-packages/IPython/core/interactiveshell.py\u001b[0m in \u001b[0;36mrun_cell_magic\u001b[0;34m(self, magic_name, line, cell)\u001b[0m\n\u001b[1;32m   2115\u001b[0m             \u001b[0mmagic_arg_s\u001b[0m \u001b[0;34m=\u001b[0m \u001b[0mself\u001b[0m\u001b[0;34m.\u001b[0m\u001b[0mvar_expand\u001b[0m\u001b[0;34m(\u001b[0m\u001b[0mline\u001b[0m\u001b[0;34m,\u001b[0m \u001b[0mstack_depth\u001b[0m\u001b[0;34m)\u001b[0m\u001b[0;34m\u001b[0m\u001b[0;34m\u001b[0m\u001b[0m\n\u001b[1;32m   2116\u001b[0m             \u001b[0;32mwith\u001b[0m \u001b[0mself\u001b[0m\u001b[0;34m.\u001b[0m\u001b[0mbuiltin_trap\u001b[0m\u001b[0;34m:\u001b[0m\u001b[0;34m\u001b[0m\u001b[0;34m\u001b[0m\u001b[0m\n\u001b[0;32m-> 2117\u001b[0;31m                 \u001b[0mresult\u001b[0m \u001b[0;34m=\u001b[0m \u001b[0mfn\u001b[0m\u001b[0;34m(\u001b[0m\u001b[0mmagic_arg_s\u001b[0m\u001b[0;34m,\u001b[0m \u001b[0mcell\u001b[0m\u001b[0;34m)\u001b[0m\u001b[0;34m\u001b[0m\u001b[0;34m\u001b[0m\u001b[0m\n\u001b[0m\u001b[1;32m   2118\u001b[0m             \u001b[0;32mreturn\u001b[0m \u001b[0mresult\u001b[0m\u001b[0;34m\u001b[0m\u001b[0;34m\u001b[0m\u001b[0m\n\u001b[1;32m   2119\u001b[0m \u001b[0;34m\u001b[0m\u001b[0m\n",
            "\u001b[0;32m<decorator-gen-53>\u001b[0m in \u001b[0;36mtime\u001b[0;34m(self, line, cell, local_ns)\u001b[0m\n",
            "\u001b[0;32m/usr/local/lib/python3.7/dist-packages/IPython/core/magic.py\u001b[0m in \u001b[0;36m<lambda>\u001b[0;34m(f, *a, **k)\u001b[0m\n\u001b[1;32m    186\u001b[0m     \u001b[0;31m# but it's overkill for just that one bit of state.\u001b[0m\u001b[0;34m\u001b[0m\u001b[0;34m\u001b[0m\u001b[0;34m\u001b[0m\u001b[0m\n\u001b[1;32m    187\u001b[0m     \u001b[0;32mdef\u001b[0m \u001b[0mmagic_deco\u001b[0m\u001b[0;34m(\u001b[0m\u001b[0marg\u001b[0m\u001b[0;34m)\u001b[0m\u001b[0;34m:\u001b[0m\u001b[0;34m\u001b[0m\u001b[0;34m\u001b[0m\u001b[0m\n\u001b[0;32m--> 188\u001b[0;31m         \u001b[0mcall\u001b[0m \u001b[0;34m=\u001b[0m \u001b[0;32mlambda\u001b[0m \u001b[0mf\u001b[0m\u001b[0;34m,\u001b[0m \u001b[0;34m*\u001b[0m\u001b[0ma\u001b[0m\u001b[0;34m,\u001b[0m \u001b[0;34m**\u001b[0m\u001b[0mk\u001b[0m\u001b[0;34m:\u001b[0m \u001b[0mf\u001b[0m\u001b[0;34m(\u001b[0m\u001b[0;34m*\u001b[0m\u001b[0ma\u001b[0m\u001b[0;34m,\u001b[0m \u001b[0;34m**\u001b[0m\u001b[0mk\u001b[0m\u001b[0;34m)\u001b[0m\u001b[0;34m\u001b[0m\u001b[0;34m\u001b[0m\u001b[0m\n\u001b[0m\u001b[1;32m    189\u001b[0m \u001b[0;34m\u001b[0m\u001b[0m\n\u001b[1;32m    190\u001b[0m         \u001b[0;32mif\u001b[0m \u001b[0mcallable\u001b[0m\u001b[0;34m(\u001b[0m\u001b[0marg\u001b[0m\u001b[0;34m)\u001b[0m\u001b[0;34m:\u001b[0m\u001b[0;34m\u001b[0m\u001b[0;34m\u001b[0m\u001b[0m\n",
            "\u001b[0;32m/usr/local/lib/python3.7/dist-packages/IPython/core/magics/execution.py\u001b[0m in \u001b[0;36mtime\u001b[0;34m(self, line, cell, local_ns)\u001b[0m\n\u001b[1;32m   1191\u001b[0m         \u001b[0;32melse\u001b[0m\u001b[0;34m:\u001b[0m\u001b[0;34m\u001b[0m\u001b[0;34m\u001b[0m\u001b[0m\n\u001b[1;32m   1192\u001b[0m             \u001b[0mst\u001b[0m \u001b[0;34m=\u001b[0m \u001b[0mclock2\u001b[0m\u001b[0;34m(\u001b[0m\u001b[0;34m)\u001b[0m\u001b[0;34m\u001b[0m\u001b[0;34m\u001b[0m\u001b[0m\n\u001b[0;32m-> 1193\u001b[0;31m             \u001b[0mexec\u001b[0m\u001b[0;34m(\u001b[0m\u001b[0mcode\u001b[0m\u001b[0;34m,\u001b[0m \u001b[0mglob\u001b[0m\u001b[0;34m,\u001b[0m \u001b[0mlocal_ns\u001b[0m\u001b[0;34m)\u001b[0m\u001b[0;34m\u001b[0m\u001b[0;34m\u001b[0m\u001b[0m\n\u001b[0m\u001b[1;32m   1194\u001b[0m             \u001b[0mend\u001b[0m \u001b[0;34m=\u001b[0m \u001b[0mclock2\u001b[0m\u001b[0;34m(\u001b[0m\u001b[0;34m)\u001b[0m\u001b[0;34m\u001b[0m\u001b[0;34m\u001b[0m\u001b[0m\n\u001b[1;32m   1195\u001b[0m             \u001b[0mout\u001b[0m \u001b[0;34m=\u001b[0m \u001b[0;32mNone\u001b[0m\u001b[0;34m\u001b[0m\u001b[0;34m\u001b[0m\u001b[0m\n",
            "\u001b[0;32m<timed exec>\u001b[0m in \u001b[0;36m<module>\u001b[0;34m()\u001b[0m\n",
            "\u001b[0;31mNameError\u001b[0m: name 'df' is not defined"
          ]
        }
      ]
    },
    {
      "cell_type": "code",
      "metadata": {
        "colab": {
          "base_uri": "https://localhost:8080/",
          "height": 423
        },
        "id": "fNJgPdxfyvOQ",
        "outputId": "1c8c4e98-3208-478f-c00b-0b5ab438139d"
      },
      "source": [
        "df = pd.DataFrame(df)\n",
        "df"
      ],
      "execution_count": null,
      "outputs": [
        {
          "data": {
            "text/html": [
              "<div>\n",
              "<style scoped>\n",
              "    .dataframe tbody tr th:only-of-type {\n",
              "        vertical-align: middle;\n",
              "    }\n",
              "\n",
              "    .dataframe tbody tr th {\n",
              "        vertical-align: top;\n",
              "    }\n",
              "\n",
              "    .dataframe thead th {\n",
              "        text-align: right;\n",
              "    }\n",
              "</style>\n",
              "<table border=\"1\" class=\"dataframe\">\n",
              "  <thead>\n",
              "    <tr style=\"text-align: right;\">\n",
              "      <th></th>\n",
              "      <th>parse_url</th>\n",
              "      <th>link</th>\n",
              "      <th>title</th>\n",
              "      <th>public_date</th>\n",
              "    </tr>\n",
              "  </thead>\n",
              "  <tbody>\n",
              "    <tr>\n",
              "      <th>0</th>\n",
              "      <td>https://news.ycombinator.com/front?day=2021-10-1</td>\n",
              "      <td>http://www.noaa.gov/news-release/world-first-o...</td>\n",
              "      <td>Ocean drone captures video from inside a hurri...</td>\n",
              "      <td>2021-10-01 05:54:14</td>\n",
              "    </tr>\n",
              "    <tr>\n",
              "      <th>1</th>\n",
              "      <td>https://news.ycombinator.com/front?day=2021-10-1</td>\n",
              "      <td>https://every.to/napkin-math/nft-projects-are-...</td>\n",
              "      <td>NFT projects are just MLMs for tech elites (ev...</td>\n",
              "      <td>2021-10-01 00:59:07</td>\n",
              "    </tr>\n",
              "    <tr>\n",
              "      <th>2</th>\n",
              "      <td>https://news.ycombinator.com/front?day=2021-10-1</td>\n",
              "      <td>item?id=28719320</td>\n",
              "      <td>Ask HN: Who is hiring? (October 2021)</td>\n",
              "      <td>2021-10-01 15:01:00</td>\n",
              "    </tr>\n",
              "    <tr>\n",
              "      <th>3</th>\n",
              "      <td>https://news.ycombinator.com/front?day=2021-10-1</td>\n",
              "      <td>https://rxdb.info/downsides-of-offline-first.html</td>\n",
              "      <td>Downsides of Offline First (rxdb.info)</td>\n",
              "      <td>2021-10-01 12:57:51</td>\n",
              "    </tr>\n",
              "    <tr>\n",
              "      <th>4</th>\n",
              "      <td>https://news.ycombinator.com/front?day=2021-10-1</td>\n",
              "      <td>https://www.dmv.ca.gov/portal/news-and-media/1...</td>\n",
              "      <td>DMV approves Cruise and Waymo for commercial s...</td>\n",
              "      <td>2021-09-30 19:12:33</td>\n",
              "    </tr>\n",
              "    <tr>\n",
              "      <th>...</th>\n",
              "      <td>...</td>\n",
              "      <td>...</td>\n",
              "      <td>...</td>\n",
              "      <td>...</td>\n",
              "    </tr>\n",
              "    <tr>\n",
              "      <th>985</th>\n",
              "      <td>https://news.ycombinator.com/front?day=2021-10...</td>\n",
              "      <td>https://www.latimes.com/california/story/2021-...</td>\n",
              "      <td>[flagged] California will require large retai...</td>\n",
              "      <td>2021-10-10 21:04:11</td>\n",
              "    </tr>\n",
              "    <tr>\n",
              "      <th>986</th>\n",
              "      <td>https://news.ycombinator.com/front?day=2021-10...</td>\n",
              "      <td>https://www.toolbox.com/it-security/cyber-risk...</td>\n",
              "      <td>What Makes AWS Buckets Vulnerable to Ransomwar...</td>\n",
              "      <td>2021-10-10 09:06:45</td>\n",
              "    </tr>\n",
              "    <tr>\n",
              "      <th>987</th>\n",
              "      <td>https://news.ycombinator.com/front?day=2021-10...</td>\n",
              "      <td>item?id=28815872</td>\n",
              "      <td>Ask HN: Is a 2019 guide for AWS Certified Deve...</td>\n",
              "      <td>2021-10-10 05:01:13</td>\n",
              "    </tr>\n",
              "    <tr>\n",
              "      <th>988</th>\n",
              "      <td>https://news.ycombinator.com/front?day=2021-10...</td>\n",
              "      <td>http://www.collaborativefund.com/blog/getting-...</td>\n",
              "      <td>Getting Rich vs. Staying Rich (2017) (collabor...</td>\n",
              "      <td>2021-10-09 02:01:27</td>\n",
              "    </tr>\n",
              "    <tr>\n",
              "      <th>989</th>\n",
              "      <td>https://news.ycombinator.com/front?day=2021-10...</td>\n",
              "      <td>https://blogs.nasa.gov/commercialcrew/2021/10/...</td>\n",
              "      <td>NASA, Boeing Update Starliner Orbital Flight T...</td>\n",
              "      <td>2021-10-10 09:19:15</td>\n",
              "    </tr>\n",
              "  </tbody>\n",
              "</table>\n",
              "<p>990 rows × 4 columns</p>\n",
              "</div>"
            ],
            "text/plain": [
              "                                             parse_url  ...         public_date\n",
              "0     https://news.ycombinator.com/front?day=2021-10-1  ... 2021-10-01 05:54:14\n",
              "1     https://news.ycombinator.com/front?day=2021-10-1  ... 2021-10-01 00:59:07\n",
              "2     https://news.ycombinator.com/front?day=2021-10-1  ... 2021-10-01 15:01:00\n",
              "3     https://news.ycombinator.com/front?day=2021-10-1  ... 2021-10-01 12:57:51\n",
              "4     https://news.ycombinator.com/front?day=2021-10-1  ... 2021-09-30 19:12:33\n",
              "..                                                 ...  ...                 ...\n",
              "985  https://news.ycombinator.com/front?day=2021-10...  ... 2021-10-10 21:04:11\n",
              "986  https://news.ycombinator.com/front?day=2021-10...  ... 2021-10-10 09:06:45\n",
              "987  https://news.ycombinator.com/front?day=2021-10...  ... 2021-10-10 05:01:13\n",
              "988  https://news.ycombinator.com/front?day=2021-10...  ... 2021-10-09 02:01:27\n",
              "989  https://news.ycombinator.com/front?day=2021-10...  ... 2021-10-10 09:19:15\n",
              "\n",
              "[990 rows x 4 columns]"
            ]
          },
          "execution_count": 4,
          "metadata": {},
          "output_type": "execute_result"
        }
      ]
    },
    {
      "cell_type": "code",
      "metadata": {
        "id": "HCZbXUCCFwOz"
      },
      "source": [
        "df.sort_values(by='public_date').to_excel('news.xlsx', index=False)"
      ],
      "execution_count": null,
      "outputs": []
    },
    {
      "cell_type": "code",
      "metadata": {
        "id": "3Ng_vdXJPIoB"
      },
      "source": [
        "df"
      ],
      "execution_count": null,
      "outputs": []
    },
    {
      "cell_type": "code",
      "metadata": {
        "colab": {
          "base_uri": "https://localhost:8080/",
          "height": 36
        },
        "id": "shuUK51rJWF8",
        "outputId": "e98fcfbe-9035-456b-d406-012147ee0b1d"
      },
      "source": [
        "import requests\n",
        "r = requests.post(\n",
        "        'https://suggestions.dadata.ru/suggestions/api/4_1/rs/suggest/address',\n",
        "        json = { \"query\": 'Нижний Новгород бетанкура 3' }\n",
        "\n",
        "        # json = {\"query\": 'нижний новгород бетанкура 3'}\n",
        "        \n",
        "        )\n",
        "\n",
        "satndart_adress = r.json()['suggestions'][0]['value']\n",
        "satndart_adress"
      ],
      "execution_count": null,
      "outputs": [
        {
          "output_type": "execute_result",
          "data": {
            "application/vnd.google.colaboratory.intrinsic+json": {
              "type": "string"
            },
            "text/plain": [
              "'г Нижний Новгород, ул Бетанкура, д 3'"
            ]
          },
          "metadata": {},
          "execution_count": 2
        }
      ]
    },
    {
      "cell_type": "code",
      "source": [
        "import requests\n",
        "import json\n",
        "address = 'Нижний Новгород, бетанкура 3'\n",
        "r = requests.get(f'https://nominatim.openstreetmap.org/?addressdetails=1&q='{address}'format=json&limit=1&exclude_place_ids=716498%2C144330873%2C147285032')\n",
        " r = json.loads(r.text)\n",
        " distrct = r[0]['address']['city_district']"
      ],
      "metadata": {
        "id": "o21Q4QTX9VJy"
      },
      "execution_count": null,
      "outputs": []
    }
  ]
}